{
  "nbformat": 4,
  "nbformat_minor": 0,
  "metadata": {
    "colab": {
      "provenance": []
    },
    "kernelspec": {
      "name": "python3",
      "display_name": "Python 3"
    },
    "language_info": {
      "name": "python"
    }
  },
  "cells": [
    {
      "cell_type": "code",
      "execution_count": null,
      "metadata": {
        "id": "kV1rHzVZcu6Z"
      },
      "outputs": [],
      "source": [
        "import numpy as np\n",
        "import pandas as pd\n",
        "import matplotlib.pyplot as plt\n",
        "import seaborn as sns"
      ]
    },
    {
      "cell_type": "code",
      "source": [
        "df_train=pd.read_csv('train.csv')\n",
        "df_test=pd.read_csv('test.csv')"
      ],
      "metadata": {
        "id": "IfTIxEnzeRk1"
      },
      "execution_count": null,
      "outputs": []
    },
    {
      "cell_type": "markdown",
      "source": [],
      "metadata": {
        "id": "7TxbHBy9H9wD"
      }
    },
    {
      "cell_type": "code",
      "source": [
        "df_train.info()\n"
      ],
      "metadata": {
        "colab": {
          "base_uri": "https://localhost:8080/"
        },
        "id": "zJiGiUjreVAX",
        "outputId": "19cb1a2d-12f5-4482-c197-94eb94d60ba3"
      },
      "execution_count": null,
      "outputs": [
        {
          "output_type": "stream",
          "name": "stdout",
          "text": [
            "<class 'pandas.core.frame.DataFrame'>\n",
            "RangeIndex: 48175 entries, 0 to 48174\n",
            "Data columns (total 18 columns):\n",
            " #   Column              Non-Null Count  Dtype  \n",
            "---  ------              --------------  -----  \n",
            " 0   Id                  48175 non-null  float64\n",
            " 1   etat                48175 non-null  object \n",
            " 2   genre               47965 non-null  object \n",
            " 3   lieu_naissance      46295 non-null  object \n",
            " 4   age                 48174 non-null  float64\n",
            " 5   statut_matrimonial  48175 non-null  object \n",
            " 6   ville               48175 non-null  object \n",
            " 7   type                48175 non-null  object \n",
            " 8   profession          48172 non-null  object \n",
            " 9   secteur_activite    48175 non-null  object \n",
            " 10  anciennete          48172 non-null  float64\n",
            " 11  revenu              48175 non-null  float64\n",
            " 12  logement            48175 non-null  object \n",
            " 13  taux_interet        48175 non-null  float64\n",
            " 14  assurance           48175 non-null  float64\n",
            " 15  cout_global         48175 non-null  float64\n",
            " 16  charges             14465 non-null  float64\n",
            " 17  decision_finale     48175 non-null  object \n",
            "dtypes: float64(8), object(10)\n",
            "memory usage: 6.6+ MB\n"
          ]
        }
      ]
    },
    {
      "cell_type": "code",
      "source": [
        "df_train.describe()"
      ],
      "metadata": {
        "colab": {
          "base_uri": "https://localhost:8080/",
          "height": 300
        },
        "id": "kYxlML-TeceT",
        "outputId": "e1cdb080-6214-4bef-cd21-a30bb6b28c9a"
      },
      "execution_count": null,
      "outputs": [
        {
          "output_type": "execute_result",
          "data": {
            "text/plain": [
              "                 Id           age    anciennete        revenu  taux_interet  \\\n",
              "count  4.817500e+04  48174.000000  4.817200e+04  4.817500e+04  48175.000000   \n",
              "mean   2.060955e+06     38.941400  5.914298e+07  5.260143e+04     11.436407   \n",
              "std    4.169091e+05      9.472511  6.585534e+09  1.007629e+05      2.536559   \n",
              "min    6.570750e+05     18.000000  0.000000e+00  2.500000e+04      0.000000   \n",
              "25%    1.727200e+06     31.000000  6.000000e+01  3.845004e+04     10.900000   \n",
              "50%    2.056020e+06     38.000000  1.080000e+02  4.524550e+04     12.900000   \n",
              "75%    2.427188e+06     46.000000  1.680000e+02  5.633756e+04     12.900000   \n",
              "max    2.827510e+06     70.000000  8.901730e+11  1.208081e+07     12.900000   \n",
              "\n",
              "          assurance   cout_global        charges  \n",
              "count  48175.000000  4.817500e+04   14465.000000  \n",
              "mean     239.379520  1.036877e+05    2246.233267  \n",
              "std      177.235483  8.096089e+04    5091.621249  \n",
              "min       30.210000  2.378880e+03       0.000000  \n",
              "25%      156.350000  6.499168e+04       0.000000  \n",
              "50%      203.550000  9.087816e+04       0.000000  \n",
              "75%      264.910000  1.184172e+05    3000.000000  \n",
              "max     4777.470000  1.745103e+06  158699.860000  "
            ],
            "text/html": [
              "\n",
              "  <div id=\"df-02e8af65-ff6d-4c9d-b508-db1d29aab560\">\n",
              "    <div class=\"colab-df-container\">\n",
              "      <div>\n",
              "<style scoped>\n",
              "    .dataframe tbody tr th:only-of-type {\n",
              "        vertical-align: middle;\n",
              "    }\n",
              "\n",
              "    .dataframe tbody tr th {\n",
              "        vertical-align: top;\n",
              "    }\n",
              "\n",
              "    .dataframe thead th {\n",
              "        text-align: right;\n",
              "    }\n",
              "</style>\n",
              "<table border=\"1\" class=\"dataframe\">\n",
              "  <thead>\n",
              "    <tr style=\"text-align: right;\">\n",
              "      <th></th>\n",
              "      <th>Id</th>\n",
              "      <th>age</th>\n",
              "      <th>anciennete</th>\n",
              "      <th>revenu</th>\n",
              "      <th>taux_interet</th>\n",
              "      <th>assurance</th>\n",
              "      <th>cout_global</th>\n",
              "      <th>charges</th>\n",
              "    </tr>\n",
              "  </thead>\n",
              "  <tbody>\n",
              "    <tr>\n",
              "      <th>count</th>\n",
              "      <td>4.817500e+04</td>\n",
              "      <td>48174.000000</td>\n",
              "      <td>4.817200e+04</td>\n",
              "      <td>4.817500e+04</td>\n",
              "      <td>48175.000000</td>\n",
              "      <td>48175.000000</td>\n",
              "      <td>4.817500e+04</td>\n",
              "      <td>14465.000000</td>\n",
              "    </tr>\n",
              "    <tr>\n",
              "      <th>mean</th>\n",
              "      <td>2.060955e+06</td>\n",
              "      <td>38.941400</td>\n",
              "      <td>5.914298e+07</td>\n",
              "      <td>5.260143e+04</td>\n",
              "      <td>11.436407</td>\n",
              "      <td>239.379520</td>\n",
              "      <td>1.036877e+05</td>\n",
              "      <td>2246.233267</td>\n",
              "    </tr>\n",
              "    <tr>\n",
              "      <th>std</th>\n",
              "      <td>4.169091e+05</td>\n",
              "      <td>9.472511</td>\n",
              "      <td>6.585534e+09</td>\n",
              "      <td>1.007629e+05</td>\n",
              "      <td>2.536559</td>\n",
              "      <td>177.235483</td>\n",
              "      <td>8.096089e+04</td>\n",
              "      <td>5091.621249</td>\n",
              "    </tr>\n",
              "    <tr>\n",
              "      <th>min</th>\n",
              "      <td>6.570750e+05</td>\n",
              "      <td>18.000000</td>\n",
              "      <td>0.000000e+00</td>\n",
              "      <td>2.500000e+04</td>\n",
              "      <td>0.000000</td>\n",
              "      <td>30.210000</td>\n",
              "      <td>2.378880e+03</td>\n",
              "      <td>0.000000</td>\n",
              "    </tr>\n",
              "    <tr>\n",
              "      <th>25%</th>\n",
              "      <td>1.727200e+06</td>\n",
              "      <td>31.000000</td>\n",
              "      <td>6.000000e+01</td>\n",
              "      <td>3.845004e+04</td>\n",
              "      <td>10.900000</td>\n",
              "      <td>156.350000</td>\n",
              "      <td>6.499168e+04</td>\n",
              "      <td>0.000000</td>\n",
              "    </tr>\n",
              "    <tr>\n",
              "      <th>50%</th>\n",
              "      <td>2.056020e+06</td>\n",
              "      <td>38.000000</td>\n",
              "      <td>1.080000e+02</td>\n",
              "      <td>4.524550e+04</td>\n",
              "      <td>12.900000</td>\n",
              "      <td>203.550000</td>\n",
              "      <td>9.087816e+04</td>\n",
              "      <td>0.000000</td>\n",
              "    </tr>\n",
              "    <tr>\n",
              "      <th>75%</th>\n",
              "      <td>2.427188e+06</td>\n",
              "      <td>46.000000</td>\n",
              "      <td>1.680000e+02</td>\n",
              "      <td>5.633756e+04</td>\n",
              "      <td>12.900000</td>\n",
              "      <td>264.910000</td>\n",
              "      <td>1.184172e+05</td>\n",
              "      <td>3000.000000</td>\n",
              "    </tr>\n",
              "    <tr>\n",
              "      <th>max</th>\n",
              "      <td>2.827510e+06</td>\n",
              "      <td>70.000000</td>\n",
              "      <td>8.901730e+11</td>\n",
              "      <td>1.208081e+07</td>\n",
              "      <td>12.900000</td>\n",
              "      <td>4777.470000</td>\n",
              "      <td>1.745103e+06</td>\n",
              "      <td>158699.860000</td>\n",
              "    </tr>\n",
              "  </tbody>\n",
              "</table>\n",
              "</div>\n",
              "      <button class=\"colab-df-convert\" onclick=\"convertToInteractive('df-02e8af65-ff6d-4c9d-b508-db1d29aab560')\"\n",
              "              title=\"Convert this dataframe to an interactive table.\"\n",
              "              style=\"display:none;\">\n",
              "        \n",
              "  <svg xmlns=\"http://www.w3.org/2000/svg\" height=\"24px\"viewBox=\"0 0 24 24\"\n",
              "       width=\"24px\">\n",
              "    <path d=\"M0 0h24v24H0V0z\" fill=\"none\"/>\n",
              "    <path d=\"M18.56 5.44l.94 2.06.94-2.06 2.06-.94-2.06-.94-.94-2.06-.94 2.06-2.06.94zm-11 1L8.5 8.5l.94-2.06 2.06-.94-2.06-.94L8.5 2.5l-.94 2.06-2.06.94zm10 10l.94 2.06.94-2.06 2.06-.94-2.06-.94-.94-2.06-.94 2.06-2.06.94z\"/><path d=\"M17.41 7.96l-1.37-1.37c-.4-.4-.92-.59-1.43-.59-.52 0-1.04.2-1.43.59L10.3 9.45l-7.72 7.72c-.78.78-.78 2.05 0 2.83L4 21.41c.39.39.9.59 1.41.59.51 0 1.02-.2 1.41-.59l7.78-7.78 2.81-2.81c.8-.78.8-2.07 0-2.86zM5.41 20L4 18.59l7.72-7.72 1.47 1.35L5.41 20z\"/>\n",
              "  </svg>\n",
              "      </button>\n",
              "      \n",
              "  <style>\n",
              "    .colab-df-container {\n",
              "      display:flex;\n",
              "      flex-wrap:wrap;\n",
              "      gap: 12px;\n",
              "    }\n",
              "\n",
              "    .colab-df-convert {\n",
              "      background-color: #E8F0FE;\n",
              "      border: none;\n",
              "      border-radius: 50%;\n",
              "      cursor: pointer;\n",
              "      display: none;\n",
              "      fill: #1967D2;\n",
              "      height: 32px;\n",
              "      padding: 0 0 0 0;\n",
              "      width: 32px;\n",
              "    }\n",
              "\n",
              "    .colab-df-convert:hover {\n",
              "      background-color: #E2EBFA;\n",
              "      box-shadow: 0px 1px 2px rgba(60, 64, 67, 0.3), 0px 1px 3px 1px rgba(60, 64, 67, 0.15);\n",
              "      fill: #174EA6;\n",
              "    }\n",
              "\n",
              "    [theme=dark] .colab-df-convert {\n",
              "      background-color: #3B4455;\n",
              "      fill: #D2E3FC;\n",
              "    }\n",
              "\n",
              "    [theme=dark] .colab-df-convert:hover {\n",
              "      background-color: #434B5C;\n",
              "      box-shadow: 0px 1px 3px 1px rgba(0, 0, 0, 0.15);\n",
              "      filter: drop-shadow(0px 1px 2px rgba(0, 0, 0, 0.3));\n",
              "      fill: #FFFFFF;\n",
              "    }\n",
              "  </style>\n",
              "\n",
              "      <script>\n",
              "        const buttonEl =\n",
              "          document.querySelector('#df-02e8af65-ff6d-4c9d-b508-db1d29aab560 button.colab-df-convert');\n",
              "        buttonEl.style.display =\n",
              "          google.colab.kernel.accessAllowed ? 'block' : 'none';\n",
              "\n",
              "        async function convertToInteractive(key) {\n",
              "          const element = document.querySelector('#df-02e8af65-ff6d-4c9d-b508-db1d29aab560');\n",
              "          const dataTable =\n",
              "            await google.colab.kernel.invokeFunction('convertToInteractive',\n",
              "                                                     [key], {});\n",
              "          if (!dataTable) return;\n",
              "\n",
              "          const docLinkHtml = 'Like what you see? Visit the ' +\n",
              "            '<a target=\"_blank\" href=https://colab.research.google.com/notebooks/data_table.ipynb>data table notebook</a>'\n",
              "            + ' to learn more about interactive tables.';\n",
              "          element.innerHTML = '';\n",
              "          dataTable['output_type'] = 'display_data';\n",
              "          await google.colab.output.renderOutput(dataTable, element);\n",
              "          const docLink = document.createElement('div');\n",
              "          docLink.innerHTML = docLinkHtml;\n",
              "          element.appendChild(docLink);\n",
              "        }\n",
              "      </script>\n",
              "    </div>\n",
              "  </div>\n",
              "  "
            ]
          },
          "metadata": {},
          "execution_count": 4
        }
      ]
    },
    {
      "cell_type": "code",
      "source": [
        "df_train.isnull().sum()\n"
      ],
      "metadata": {
        "colab": {
          "base_uri": "https://localhost:8080/"
        },
        "id": "uWDuVoFmeqnL",
        "outputId": "df297fb3-3034-4e15-bc84-370ec99a2b22"
      },
      "execution_count": null,
      "outputs": [
        {
          "output_type": "execute_result",
          "data": {
            "text/plain": [
              "Id                        0\n",
              "etat                      0\n",
              "genre                   210\n",
              "lieu_naissance         1880\n",
              "age                       1\n",
              "statut_matrimonial        0\n",
              "ville                     0\n",
              "type                      0\n",
              "profession                3\n",
              "secteur_activite          0\n",
              "anciennete                3\n",
              "revenu                    0\n",
              "logement                  0\n",
              "taux_interet              0\n",
              "assurance                 0\n",
              "cout_global               0\n",
              "charges               33710\n",
              "decision_finale           0\n",
              "dtype: int64"
            ]
          },
          "metadata": {},
          "execution_count": 5
        }
      ]
    },
    {
      "cell_type": "code",
      "source": [
        "df_train.drop('lieu_naissance', inplace=True, axis=1)\n",
        "df_test.drop('lieu_naissance', inplace=True, axis=1)"
      ],
      "metadata": {
        "id": "JwHWah9UfGzY"
      },
      "execution_count": null,
      "outputs": []
    },
    {
      "cell_type": "code",
      "source": [
        "df_train.drop(df_train[df_train['anciennete'] > 300].index, inplace = True)"
      ],
      "metadata": {
        "id": "X6yvIA0mzZjB"
      },
      "execution_count": null,
      "outputs": []
    },
    {
      "cell_type": "code",
      "source": [
        "# Mean/meadian imputation\n",
        "df_train['age'].fillna(df_train['age'].mean(), inplace=True)\n",
        "df_train['anciennete'].fillna(df_train['anciennete'].median(), inplace=True)\n",
        "df_test['age'].fillna(df_test['age'].mean(), inplace=True)\n",
        "df_test['anciennete'].fillna(df_test['anciennete'].median(), inplace=True)"
      ],
      "metadata": {
        "id": "R0f5kxhOfRK-"
      },
      "execution_count": null,
      "outputs": []
    },
    {
      "cell_type": "code",
      "source": [
        "df_train['charges'].describe()"
      ],
      "metadata": {
        "colab": {
          "base_uri": "https://localhost:8080/"
        },
        "id": "Qs6NIhPP0aH6",
        "outputId": "0e377ea4-1724-422a-83c8-04d261967765"
      },
      "execution_count": null,
      "outputs": [
        {
          "output_type": "execute_result",
          "data": {
            "text/plain": [
              "count     44925.000000\n",
              "mean       2159.289227\n",
              "std        2750.112507\n",
              "min           0.000000\n",
              "25%        2159.289227\n",
              "50%        2159.289227\n",
              "75%        2159.289227\n",
              "max      158699.860000\n",
              "Name: charges, dtype: float64"
            ]
          },
          "metadata": {},
          "execution_count": 20
        }
      ]
    },
    {
      "cell_type": "code",
      "source": [
        "df_train['charges'].fillna(df_train['charges'].mean(), inplace=True)\n"
      ],
      "metadata": {
        "id": "nvxDU-yn0rs9"
      },
      "execution_count": null,
      "outputs": []
    },
    {
      "cell_type": "code",
      "source": [
        "df_test['charges'].fillna(df_test['charges'].mean(), inplace=True)"
      ],
      "metadata": {
        "id": "R-Vb6lWN0_ii"
      },
      "execution_count": null,
      "outputs": []
    },
    {
      "cell_type": "code",
      "source": [
        "df_train['genre'].fillna(\"Homme\",inplace=True)\n",
        "df_test['genre'].fillna(\"Homme\",inplace=True)\n"
      ],
      "metadata": {
        "id": "u8P6xm4NgdWn"
      },
      "execution_count": null,
      "outputs": []
    },
    {
      "cell_type": "code",
      "source": [
        "df_test.isnull().sum()"
      ],
      "metadata": {
        "colab": {
          "base_uri": "https://localhost:8080/"
        },
        "id": "Cu9My6NChDA2",
        "outputId": "3faf5253-e0ef-466e-af6b-5951210b181f"
      },
      "execution_count": null,
      "outputs": [
        {
          "output_type": "execute_result",
          "data": {
            "text/plain": [
              "Id                        0\n",
              "etat                      0\n",
              "genre                     0\n",
              "age                       0\n",
              "statut_matrimonial        0\n",
              "ville                     0\n",
              "type                      0\n",
              "profession                0\n",
              "secteur_activite          0\n",
              "anciennete                0\n",
              "revenu                    0\n",
              "logement                  0\n",
              "taux_interet              0\n",
              "assurance                 0\n",
              "cout_global               0\n",
              "charges               16693\n",
              "dtype: int64"
            ]
          },
          "metadata": {},
          "execution_count": 15
        }
      ]
    },
    {
      "cell_type": "code",
      "source": [
        "df_train['etat']=df_train['etat'].str.lower()\n",
        "from sklearn.preprocessing import LabelEncoder\n",
        "ProType = LabelEncoder()\n",
        "df_train[\"etat\"]=ProType.fit_transform(df_train[\"etat\"])\n",
        "df_train['etat']=df_train['etat'].astype('category')\n",
        "\n",
        "df_train['genre']=df_train['genre'].str.lower()\n",
        "from sklearn.preprocessing import LabelEncoder\n",
        "ProType = LabelEncoder()\n",
        "df_train[\"genre\"]=ProType.fit_transform(df_train[\"genre\"])\n",
        "df_train['genre']=df_train['genre'].astype('category')\n",
        "\n",
        "df_train['statut_matrimonial']=df_train['statut_matrimonial'].str.lower()\n",
        "from sklearn.preprocessing import LabelEncoder\n",
        "ProType = LabelEncoder()\n",
        "df_train[\"statut_matrimonial\"]=ProType.fit_transform(df_train[\"statut_matrimonial\"])\n",
        "df_train['statut_matrimonial']=df_train['statut_matrimonial'].astype('category')\n",
        "\n",
        "df_train['ville']=df_train['ville'].str.lower()\n",
        "from sklearn.preprocessing import LabelEncoder\n",
        "ProType = LabelEncoder()\n",
        "df_train[\"ville\"]=ProType.fit_transform(df_train[\"ville\"])\n",
        "df_train['ville']=df_train['ville'].astype('category')\n",
        "\n",
        "df_train['type']=df_train['type'].str.lower()\n",
        "from sklearn.preprocessing import LabelEncoder\n",
        "ProType = LabelEncoder()\n",
        "df_train[\"type\"]=ProType.fit_transform(df_train[\"type\"])\n",
        "df_train['type']=df_train['type'].astype('category')\n",
        "\n",
        "df_train['profession']=df_train['profession'].str.lower()\n",
        "from sklearn.preprocessing import LabelEncoder\n",
        "ProType = LabelEncoder()\n",
        "df_train[\"profession\"]=ProType.fit_transform(df_train[\"profession\"])\n",
        "df_train['profession']=df_train['profession'].astype('category')\n",
        "\n",
        "df_train['secteur_activite']=df_train['secteur_activite'].str.lower()\n",
        "from sklearn.preprocessing import LabelEncoder\n",
        "ProType = LabelEncoder()\n",
        "df_train[\"secteur_activite\"]=ProType.fit_transform(df_train[\"secteur_activite\"])\n",
        "df_train['secteur_activite']=df_train['secteur_activite'].astype('category')\n",
        "\n",
        "df_train['logement']=df_train['logement'].str.lower()\n",
        "from sklearn.preprocessing import LabelEncoder\n",
        "ProType = LabelEncoder()\n",
        "df_train[\"logement\"]=ProType.fit_transform(df_train[\"logement\"])\n",
        "df_train['logement']=df_train['etat'].astype('category')\n"
      ],
      "metadata": {
        "id": "85Cv1v7Mhz4M"
      },
      "execution_count": null,
      "outputs": []
    },
    {
      "cell_type": "code",
      "source": [
        "df_train.info()"
      ],
      "metadata": {
        "colab": {
          "base_uri": "https://localhost:8080/"
        },
        "id": "cNbXCgwuiHcv",
        "outputId": "58a81501-5ae4-4b08-941f-a9c81019c25a"
      },
      "execution_count": null,
      "outputs": [
        {
          "output_type": "stream",
          "name": "stdout",
          "text": [
            "<class 'pandas.core.frame.DataFrame'>\n",
            "Int64Index: 48172 entries, 0 to 48174\n",
            "Data columns (total 17 columns):\n",
            " #   Column              Non-Null Count  Dtype   \n",
            "---  ------              --------------  -----   \n",
            " 0   Id                  48172 non-null  float64 \n",
            " 1   etat                48172 non-null  category\n",
            " 2   genre               48172 non-null  category\n",
            " 3   age                 48172 non-null  float64 \n",
            " 4   statut_matrimonial  48172 non-null  category\n",
            " 5   ville               48172 non-null  category\n",
            " 6   type                48172 non-null  category\n",
            " 7   profession          48172 non-null  category\n",
            " 8   secteur_activite    48172 non-null  category\n",
            " 9   anciennete          48172 non-null  float64 \n",
            " 10  revenu              48172 non-null  float64 \n",
            " 11  logement            48172 non-null  category\n",
            " 12  taux_interet        48172 non-null  float64 \n",
            " 13  assurance           48172 non-null  float64 \n",
            " 14  cout_global         48172 non-null  float64 \n",
            " 15  charges             48172 non-null  float64 \n",
            " 16  decision_finale     48172 non-null  object  \n",
            "dtypes: category(8), float64(8), object(1)\n",
            "memory usage: 4.0+ MB\n"
          ]
        }
      ]
    },
    {
      "cell_type": "code",
      "source": [],
      "metadata": {
        "id": "TWqUgwAXiJ47"
      },
      "execution_count": null,
      "outputs": []
    },
    {
      "cell_type": "code",
      "source": [
        "df_test['etat']=df_test['etat'].str.lower()\n",
        "from sklearn.preprocessing import LabelEncoder\n",
        "ProType = LabelEncoder()\n",
        "df_test[\"etat\"]=ProType.fit_transform(df_test[\"etat\"])\n",
        "df_test['etat']=df_test['etat'].astype('category')\n",
        "\n",
        "df_test['genre']=df_test['genre'].str.lower()\n",
        "from sklearn.preprocessing import LabelEncoder\n",
        "ProType = LabelEncoder()\n",
        "df_test[\"genre\"]=ProType.fit_transform(df_test[\"genre\"])\n",
        "df_test['genre']=df_test['genre'].astype('category')\n",
        "\n",
        "df_test['statut_matrimonial']=df_test['statut_matrimonial'].str.lower()\n",
        "from sklearn.preprocessing import LabelEncoder\n",
        "ProType = LabelEncoder()\n",
        "df_test[\"statut_matrimonial\"]=ProType.fit_transform(df_test[\"statut_matrimonial\"])\n",
        "df_test['statut_matrimonial']=df_test['statut_matrimonial'].astype('category')\n",
        "\n",
        "df_test['ville']=df_test['ville'].str.lower()\n",
        "from sklearn.preprocessing import LabelEncoder\n",
        "ProType = LabelEncoder()\n",
        "df_test[\"ville\"]=ProType.fit_transform(df_test[\"ville\"])\n",
        "df_test['ville']=df_test['ville'].astype('category')\n",
        "\n",
        "df_test['type']=df_test['type'].str.lower()\n",
        "from sklearn.preprocessing import LabelEncoder\n",
        "ProType = LabelEncoder()\n",
        "df_test[\"type\"]=ProType.fit_transform(df_test[\"type\"])\n",
        "df_test['type']=df_test['type'].astype('category')\n",
        "\n",
        "df_test['profession']=df_test['profession'].str.lower()\n",
        "from sklearn.preprocessing import LabelEncoder\n",
        "ProType = LabelEncoder()\n",
        "df_test[\"profession\"]=ProType.fit_transform(df_test[\"profession\"])\n",
        "df_test['profession']=df_test['profession'].astype('category')\n",
        "\n",
        "df_test['secteur_activite']=df_test['secteur_activite'].str.lower()\n",
        "from sklearn.preprocessing import LabelEncoder\n",
        "ProType = LabelEncoder()\n",
        "df_test[\"secteur_activite\"]=ProType.fit_transform(df_test[\"secteur_activite\"])\n",
        "df_test['secteur_activite']=df_test['secteur_activite'].astype('category')\n",
        "\n",
        "df_test['logement']=df_test['logement'].str.lower()\n",
        "from sklearn.preprocessing import LabelEncoder\n",
        "ProType = LabelEncoder()\n",
        "df_test[\"logement\"]=ProType.fit_transform(df_test[\"logement\"])\n",
        "df_test['logement']=df_test['etat'].astype('category')"
      ],
      "metadata": {
        "id": "XZpuAuDRidGT"
      },
      "execution_count": null,
      "outputs": []
    },
    {
      "cell_type": "code",
      "source": [
        "df_train.columns"
      ],
      "metadata": {
        "colab": {
          "base_uri": "https://localhost:8080/"
        },
        "id": "DvjToOKbjPJA",
        "outputId": "137b58f4-a199-4ae0-f1c5-e0a44cf378f9"
      },
      "execution_count": null,
      "outputs": [
        {
          "output_type": "execute_result",
          "data": {
            "text/plain": [
              "Index(['Id', 'etat', 'genre', 'age', 'statut_matrimonial', 'ville', 'type',\n",
              "       'profession', 'secteur_activite', 'anciennete', 'revenu', 'logement',\n",
              "       'taux_interet', 'assurance', 'cout_global', 'charges',\n",
              "       'decision_finale'],\n",
              "      dtype='object')"
            ]
          },
          "metadata": {},
          "execution_count": 35
        }
      ]
    },
    {
      "cell_type": "code",
      "source": [
        "y = df_train.iloc[:, -1]\n",
        "cols=['Id', 'etat', 'genre', 'age', 'statut_matrimonial', 'ville', 'type',\n",
        "       'profession', 'secteur_activite', 'anciennete', 'revenu', 'logement',\n",
        "       'taux_interet', 'assurance', 'cout_global', 'charges']\n",
        "for label in cols[:-1]:\n",
        "    plt.scatter(df_train[label], y, c = \"blue\", marker = \"s\")\n",
        "    plt.title(label)\n",
        "    plt.ylabel(\"Probability\")\n",
        "    plt.xlabel(label)\n",
        "    plt.show()"
      ],
      "metadata": {
        "colab": {
          "base_uri": "https://localhost:8080/",
          "height": 1000
        },
        "id": "LIUpHEtxjYG-",
        "outputId": "039c3afe-5574-422b-ca75-43db124f4d24"
      },
      "execution_count": null,
      "outputs": [
        {
          "output_type": "display_data",
          "data": {
            "text/plain": [
              "<Figure size 640x480 with 1 Axes>"
            ],
            "image/png": "[encoded data removed]"
          },
          "metadata": {}
        },
        {
          "output_type": "display_data",
          "data": {
            "text/plain": [
              "<Figure size 640x480 with 1 Axes>"
            ],
            "image/png": "[encoded data removed]"
          },
          "metadata": {}
        },
        {
          "output_type": "display_data",
          "data": {
            "text/plain": [
              "<Figure size 640x480 with 1 Axes>"
            ],
            "image/png": "[encoded data removed]"
          },
          "metadata": {}
        },
        {
          "output_type": "display_data",
          "data": {
            "text/plain": [
              "<Figure size 640x480 with 1 Axes>"
            ],
            "image/png": "[encoded data removed]"
          },
          "metadata": {}
        },
        {
          "output_type": "display_data",
          "data": {
            "text/plain": [
              "<Figure size 640x480 with 1 Axes>"
            ],
            "image/png": "[encoded data removed]"
          },
          "metadata": {}
        },
        {
          "output_type": "display_data",
          "data": {
            "text/plain": [
              "<Figure size 640x480 with 1 Axes>"
            ],
            "image/png": "[encoded data removed]"
          },
          "metadata": {}
        },
        {
          "output_type": "display_data",
          "data": {
            "text/plain": [
              "<Figure size 640x480 with 1 Axes>"
            ],
            "image/png": "[encoded data removed]"
          },
          "metadata": {}
        },
        {
          "output_type": "display_data",
          "data": {
            "text/plain": [
              "<Figure size 640x480 with 1 Axes>"
            ],
            "image/png": "[encoded data removed]"
          },
          "metadata": {}
        },
        {
          "output_type": "display_data",
          "data": {
            "text/plain": [
              "<Figure size 640x480 with 1 Axes>"
            ],
            "image/png": "[encoded data removed]"
          },
          "metadata": {}
        },
        {
          "output_type": "display_data",
          "data": {
            "text/plain": [
              "<Figure size 640x480 with 1 Axes>"
            ],
            "image/png": "[encoded data removed]"
          },
          "metadata": {}
        },
        {
          "output_type": "display_data",
          "data": {
            "text/plain": [
              "<Figure size 640x480 with 1 Axes>"
            ],
            "image/png": "[encoded data removed]"
          },
          "metadata": {}
        },
        {
          "output_type": "display_data",
          "data": {
            "text/plain": [
              "<Figure size 640x480 with 1 Axes>"
            ],
            "image/png": "[encoded data removed]"
          },
          "metadata": {}
        },
        {
          "output_type": "display_data",
          "data": {
            "text/plain": [
              "<Figure size 640x480 with 1 Axes>"
            ],
            "image/png": "[encoded data removed]"
          },
          "metadata": {}
        },
        {
          "output_type": "display_data",
          "data": {
            "text/plain": [
              "<Figure size 640x480 with 1 Axes>"
            ],
            "image/png": "[encoded data removed]"
          },
          "metadata": {}
        },
        {
          "output_type": "display_data",
          "data": {
            "text/plain": [
              "<Figure size 640x480 with 1 Axes>"
            ],
            "image/png": "[encoded data removed]"
          },
          "metadata": {}
        }
      ]
    },
    {
      "cell_type": "code",
      "source": [
        "label_dictionary = {\n",
        "    \"Refusé\":0,\n",
        "    \"Accepté\":1,\n",
        "}\n",
        "df_train['decision_finale']= df_train['decision_finale'].map(label_dictionary)\n"
      ],
      "metadata": {
        "id": "6SxOOX4nox_Y"
      },
      "execution_count": null,
      "outputs": []
    },
    {
      "cell_type": "code",
      "source": [
        "df_train['decision_finale'].value_counts()"
      ],
      "metadata": {
        "id": "1Zo6Fa2oo4N_",
        "colab": {
          "base_uri": "https://localhost:8080/"
        },
        "outputId": "27c3017d-e83c-4000-ed91-36bde61d020d"
      },
      "execution_count": null,
      "outputs": [
        {
          "output_type": "execute_result",
          "data": {
            "text/plain": [
              "0    23827\n",
              "1    21098\n",
              "Name: decision_finale, dtype: int64"
            ]
          },
          "metadata": {},
          "execution_count": 26
        }
      ]
    },
    {
      "cell_type": "code",
      "source": [
        "from sklearn.preprocessing import StandardScaler\n",
        "\n",
        "\n",
        "X_train = df_train.drop('decision_finale', axis=1)\n",
        "y_train = df_train['decision_finale']\n",
        "\n",
        "X_test = df_test\n",
        "\n",
        "scaler = StandardScaler()\n",
        "\n",
        "scaler.fit(X_train)\n",
        "\n",
        "X_train_scaled = scaler.transform(X_train)\n",
        "X_test_scaled = scaler.transform(X_test)"
      ],
      "metadata": {
        "id": "-dbkDpkfkOgX"
      },
      "execution_count": null,
      "outputs": []
    },
    {
      "cell_type": "code",
      "source": [
        "#data test prep\n",
        "x_test_np=X_test.values\n",
        "x_test_np"
      ],
      "metadata": {
        "id": "NeRzkBz_k7nT",
        "colab": {
          "base_uri": "https://localhost:8080/"
        },
        "outputId": "32e8fdd2-77a6-4f0a-8e9c-e33b664d566d"
      },
      "execution_count": null,
      "outputs": [
        {
          "output_type": "execute_result",
          "data": {
            "text/plain": [
              "array([[2.41002000e+06, 0.00000000e+00, 1.00000000e+00, ...,\n",
              "        1.47500000e+02, 6.88473200e+04, 0.00000000e+00],\n",
              "       [2.15475000e+06, 0.00000000e+00, 0.00000000e+00, ...,\n",
              "        1.65200000e+02, 6.54432400e+04, 2.23188918e+03],\n",
              "       [2.37864500e+06, 9.00000000e+00, 1.00000000e+00, ...,\n",
              "        4.13000000e+02, 1.63603640e+05, 2.23188918e+03],\n",
              "       ...,\n",
              "       [1.49459500e+06, 4.00000000e+00, 1.00000000e+00, ...,\n",
              "        2.12400000e+02, 8.41388400e+04, 0.00000000e+00],\n",
              "       [2.15029000e+06, 0.00000000e+00, 0.00000000e+00, ...,\n",
              "        1.66970000e+02, 7.79349200e+04, 0.00000000e+00],\n",
              "       [1.80642500e+06, 4.00000000e+00, 1.00000000e+00, ...,\n",
              "        1.77000000e+02, 7.01160000e+04, 0.00000000e+00]])"
            ]
          },
          "metadata": {},
          "execution_count": 25
        }
      ]
    },
    {
      "cell_type": "markdown",
      "source": [
        "## **KNN**"
      ],
      "metadata": {
        "id": "1L6r6sBDkgHB"
      }
    },
    {
      "cell_type": "code",
      "source": [
        "from sklearn.neighbors import KNeighborsClassifier\n",
        "from sklearn.model_selection import cross_val_score\n",
        "\n",
        "knn = KNeighborsClassifier(n_neighbors=30)\n",
        "knn.fit(X_train_scaled, y_train)\n",
        "scores = cross_val_score(knn, X_train_scaled, y_train, cv=5)\n",
        "mean_accuracy = scores.mean()\n",
        "\n",
        "print(\"Mean Accuracy:\", mean_accuracy)"
      ],
      "metadata": {
        "colab": {
          "base_uri": "https://localhost:8080/"
        },
        "id": "fhZm4TBSksaJ",
        "outputId": "74c8d1b0-a8d5-4ae1-b255-5ced4de1d29e"
      },
      "execution_count": null,
      "outputs": [
        {
          "output_type": "stream",
          "name": "stdout",
          "text": [
            "Mean Accuracy: 0.7577963272120201\n"
          ]
        }
      ]
    },
    {
      "cell_type": "code",
      "source": [
        "y_predictions = knn.predict(x_test_np)\n",
        "nv=pd.DataFrame(df_test[\"Id\"])\n",
        "nv[\"df\"]=pd.DataFrame(y_predictions)\n",
        "nv.columns=['Id_pret','decision_finale']\n",
        "nv.to_csv(\"knn.csv\", index=False)\n"
      ],
      "metadata": {
        "id": "9eeTdhKxkw7v"
      },
      "execution_count": null,
      "outputs": []
    },
    {
      "cell_type": "markdown",
      "source": [
        "# **Logistic Reg**"
      ],
      "metadata": {
        "id": "dKRtRFlzojbe"
      }
    },
    {
      "cell_type": "code",
      "source": [
        "from sklearn.linear_model import LogisticRegression\n",
        "\n",
        "logreg = LogisticRegression()\n",
        "logreg.fit(Xtrain, ytrain)\n",
        "scores = cross_val_score(logreg, X_train_scaled, y_train, cv=5)\n",
        "mean_accuracy = scores.mean()\n",
        "\n",
        "print(\"Mean Accuracy:\", mean_accuracy)"
      ],
      "metadata": {
        "id": "RuEYXoknolZR",
        "colab": {
          "base_uri": "https://localhost:8080/"
        },
        "outputId": "a2347220-2182-4624-c64e-11d0cd2a5c5d"
      },
      "execution_count": null,
      "outputs": [
        {
          "output_type": "stream",
          "name": "stdout",
          "text": [
            "Mean Accuracy: 0.7804327262067756\n"
          ]
        }
      ]
    },
    {
      "cell_type": "code",
      "source": [
        "y_predictions = logreg.predict(x_test_np)\n",
        "nv=pd.DataFrame(df_test[\"Id\"])\n",
        "nv[\"df\"]=pd.DataFrame(y_predictions)\n",
        "nv.columns=['Id_pret','decision_finale']\n",
        "nv.to_csv(\"logreg.csv\", index=False)\n"
      ],
      "metadata": {
        "id": "Cp81-ltCpZkf"
      },
      "execution_count": null,
      "outputs": []
    },
    {
      "cell_type": "markdown",
      "source": [
        "## **xGBOOST**"
      ],
      "metadata": {
        "id": "wlTK2rW1qzFl"
      }
    },
    {
      "cell_type": "code",
      "source": [
        "import xgboost as xgb\n",
        "from sklearn.metrics import accuracy_score, precision_score, recall_score, f1_score\n",
        "from sklearn.model_selection import train_test_split\n",
        "\n",
        "Xtrain, Xtest, ytrain, ytest = train_test_split(X_train_scaled, y_train, test_size=0.2, random_state=42)\n",
        "xgb_model = xgb.XGBClassifier(\n",
        "    max_depth=3,\n",
        "    learning_rate=0.01,\n",
        "    n_estimators=1000,\n",
        "    subsample=0.8,\n",
        "    colsample_bytree=0.8\n",
        ")\n",
        "xgb_model.fit(Xtrain, ytrain)\n",
        "y_pred = xgb_model.predict(Xtest)\n",
        "accuracy = accuracy_score(ytest, y_pred)\n",
        "precision = precision_score(ytest, y_pred)\n",
        "recall = recall_score(ytest, y_pred)\n",
        "f1 = f1_score(ytest, y_pred)\n",
        "print(\"Accuracy:\", accuracy)\n",
        "print(\"Precision:\", precision)\n",
        "print(\"Recall:\", recall)\n",
        "print(\"F1-Score:\", f1)"
      ],
      "metadata": {
        "colab": {
          "base_uri": "https://localhost:8080/"
        },
        "id": "IsI5GTovq2Ab",
        "outputId": "2cf02edd-0263-4d3d-e7c3-0f8ef977449e"
      },
      "execution_count": null,
      "outputs": [
        {
          "output_type": "stream",
          "name": "stdout",
          "text": [
            "Accuracy: 0.7968863518422419\n",
            "Precision: 0.7883865044755566\n",
            "Recall: 0.7684563758389261\n",
            "F1-Score: 0.7782938710773761\n"
          ]
        }
      ]
    },
    {
      "cell_type": "code",
      "source": [
        "y_predictions = xgb_model.predict(x_test_np)\n",
        "nv=pd.DataFrame(df_test[\"Id\"])\n",
        "nv[\"df\"]=pd.DataFrame(y_predictions)\n",
        "nv.columns=['Id_pret','decision_finale']\n",
        "nv.to_csv(\"xgb.csv\", index=False)\n"
      ],
      "metadata": {
        "id": "P9FNsBPTr4Vo"
      },
      "execution_count": null,
      "outputs": []
    },
    {
      "cell_type": "code",
      "source": [],
      "metadata": {
        "id": "OY64HVE64KuK"
      },
      "execution_count": null,
      "outputs": []
    },
    {
      "cell_type": "markdown",
      "source": [
        "## **catboost**"
      ],
      "metadata": {
        "id": "fBKoSO3Y4c62"
      }
    },
    {
      "cell_type": "code",
      "source": [
        "pip install catboost"
      ],
      "metadata": {
        "colab": {
          "base_uri": "https://localhost:8080/"
        },
        "id": "ZvRMBD6G4jrR",
        "outputId": "d605fc48-86c4-4829-ecf0-34ae4bdeec0d"
      },
      "execution_count": null,
      "outputs": [
        {
          "output_type": "stream",
          "name": "stdout",
          "text": [
            "Looking in indexes: https://pypi.org/simple, https://us-python.pkg.dev/colab-wheels/public/simple/\n",
            "Collecting catboost\n",
            "  Downloading catboost-1.2-cp310-cp310-manylinux2014_x86_64.whl (98.6 MB)\n",
            "\u001b[2K     \u001b[90m━━━━━━━━━━━━━━━━━━━━━━━━━━━━━━━━━━━━━━━━\u001b[0m \u001b[32m98.6/98.6 MB\u001b[0m \u001b[31m3.1 MB/s\u001b[0m eta \u001b[36m0:00:00\u001b[0m\n",
            "\u001b[?25hRequirement already satisfied: graphviz in /usr/local/lib/python3.10/dist-packages (from catboost) (0.20.1)\n",
            "Requirement already satisfied: matplotlib in /usr/local/lib/python3.10/dist-packages (from catboost) (3.7.1)\n",
            "Requirement already satisfied: numpy>=1.16.0 in /usr/local/lib/python3.10/dist-packages (from catboost) (1.22.4)\n",
            "Requirement already satisfied: pandas>=0.24 in /usr/local/lib/python3.10/dist-packages (from catboost) (1.5.3)\n",
            "Requirement already satisfied: scipy in /usr/local/lib/python3.10/dist-packages (from catboost) (1.10.1)\n",
            "Requirement already satisfied: plotly in /usr/local/lib/python3.10/dist-packages (from catboost) (5.13.1)\n",
            "Requirement already satisfied: six in /usr/local/lib/python3.10/dist-packages (from catboost) (1.16.0)\n",
            "Requirement already satisfied: python-dateutil>=2.8.1 in /usr/local/lib/python3.10/dist-packages (from pandas>=0.24->catboost) (2.8.2)\n",
            "Requirement already satisfied: pytz>=2020.1 in /usr/local/lib/python3.10/dist-packages (from pandas>=0.24->catboost) (2022.7.1)\n",
            "Requirement already satisfied: contourpy>=1.0.1 in /usr/local/lib/python3.10/dist-packages (from matplotlib->catboost) (1.0.7)\n",
            "Requirement already satisfied: cycler>=0.10 in /usr/local/lib/python3.10/dist-packages (from matplotlib->catboost) (0.11.0)\n",
            "Requirement already satisfied: fonttools>=4.22.0 in /usr/local/lib/python3.10/dist-packages (from matplotlib->catboost) (4.39.3)\n",
            "Requirement already satisfied: kiwisolver>=1.0.1 in /usr/local/lib/python3.10/dist-packages (from matplotlib->catboost) (1.4.4)\n",
            "Requirement already satisfied: packaging>=20.0 in /usr/local/lib/python3.10/dist-packages (from matplotlib->catboost) (23.1)\n",
            "Requirement already satisfied: pillow>=6.2.0 in /usr/local/lib/python3.10/dist-packages (from matplotlib->catboost) (8.4.0)\n",
            "Requirement already satisfied: pyparsing>=2.3.1 in /usr/local/lib/python3.10/dist-packages (from matplotlib->catboost) (3.0.9)\n",
            "Requirement already satisfied: tenacity>=6.2.0 in /usr/local/lib/python3.10/dist-packages (from plotly->catboost) (8.2.2)\n",
            "Installing collected packages: catboost\n",
            "Successfully installed catboost-1.2\n"
          ]
        }
      ]
    },
    {
      "cell_type": "code",
      "source": [
        "import catboost as cb\n",
        "from sklearn.metrics import accuracy_score, precision_score, recall_score, f1_score\n",
        "from sklearn.model_selection import train_test_split\n",
        "\n",
        "Xtrain, Xtest, ytrain, ytest = train_test_split(X_train_scaled, y_train, test_size=0.2, random_state=42)\n",
        "catboost_model = cb.CatBoostClassifier( iterations=1000, learning_rate=0.01, depth=6, l2_leaf_reg=3, random_seed=42 )\n",
        "\n",
        "catboost_model.fit(Xtrain, ytrain)\n",
        "y_pred = catboost_model.predict(Xtest)\n",
        "\n",
        "accuracy = accuracy_score(ytest, y_pred)\n",
        "precision = precision_score(ytest, y_pred)\n",
        "recall = recall_score(ytest, y_pred)\n",
        "f1 = f1_score(ytest, y_pred)\n",
        "print(\"Accuracy:\", accuracy)\n",
        "print(\"Precision:\", precision)\n",
        "print(\"Recall:\", recall)\n",
        "print(\"F1-Score:\", f1)\n"
      ],
      "metadata": {
        "colab": {
          "base_uri": "https://localhost:8080/"
        },
        "id": "bHu06l6l4q1f",
        "outputId": "4a20ea37-a515-40a7-dbcd-42f478d0a023"
      },
      "execution_count": null,
      "outputs": [
        {
          "output_type": "stream",
          "name": "stdout",
          "text": [
            "0:\tlearn: 0.6891357\ttotal: 82ms\tremaining: 1m 21s\n",
            "1:\tlearn: 0.6851529\ttotal: 103ms\tremaining: 51.5s\n",
            "2:\tlearn: 0.6813346\ttotal: 118ms\tremaining: 39.4s\n",
            "3:\tlearn: 0.6775749\ttotal: 135ms\tremaining: 33.7s\n",
            "4:\tlearn: 0.6739531\ttotal: 162ms\tremaining: 32.2s\n",
            "5:\tlearn: 0.6704440\ttotal: 191ms\tremaining: 31.7s\n",
            "6:\tlearn: 0.6669128\ttotal: 220ms\tremaining: 31.3s\n",
            "7:\tlearn: 0.6634336\ttotal: 257ms\tremaining: 31.9s\n",
            "8:\tlearn: 0.6600162\ttotal: 296ms\tremaining: 32.6s\n",
            "9:\tlearn: 0.6566958\ttotal: 339ms\tremaining: 33.5s\n",
            "10:\tlearn: 0.6534346\ttotal: 378ms\tremaining: 34s\n",
            "11:\tlearn: 0.6502448\ttotal: 410ms\tremaining: 33.7s\n",
            "12:\tlearn: 0.6471390\ttotal: 517ms\tremaining: 39.3s\n",
            "13:\tlearn: 0.6441362\ttotal: 570ms\tremaining: 40.1s\n",
            "14:\tlearn: 0.6411812\ttotal: 644ms\tremaining: 42.3s\n",
            "15:\tlearn: 0.6383810\ttotal: 681ms\tremaining: 41.9s\n",
            "16:\tlearn: 0.6355384\ttotal: 729ms\tremaining: 42.1s\n",
            "17:\tlearn: 0.6327676\ttotal: 768ms\tremaining: 41.9s\n",
            "18:\tlearn: 0.6300691\ttotal: 819ms\tremaining: 42.3s\n",
            "19:\tlearn: 0.6273719\ttotal: 864ms\tremaining: 42.3s\n",
            "20:\tlearn: 0.6247918\ttotal: 906ms\tremaining: 42.3s\n",
            "21:\tlearn: 0.6222453\ttotal: 941ms\tremaining: 41.8s\n",
            "22:\tlearn: 0.6197506\ttotal: 974ms\tremaining: 41.4s\n",
            "23:\tlearn: 0.6172395\ttotal: 1.01s\tremaining: 41s\n",
            "24:\tlearn: 0.6148759\ttotal: 1.03s\tremaining: 40.3s\n",
            "25:\tlearn: 0.6124989\ttotal: 1.07s\tremaining: 39.9s\n",
            "26:\tlearn: 0.6101581\ttotal: 1.13s\tremaining: 40.5s\n",
            "27:\tlearn: 0.6079427\ttotal: 1.17s\tremaining: 40.6s\n",
            "28:\tlearn: 0.6057426\ttotal: 1.21s\tremaining: 40.4s\n",
            "29:\tlearn: 0.6035792\ttotal: 1.24s\tremaining: 40.2s\n",
            "30:\tlearn: 0.6014164\ttotal: 1.28s\tremaining: 39.9s\n",
            "31:\tlearn: 0.5993843\ttotal: 1.31s\tremaining: 39.6s\n",
            "32:\tlearn: 0.5973677\ttotal: 1.34s\tremaining: 39.4s\n",
            "33:\tlearn: 0.5954808\ttotal: 1.42s\tremaining: 40.2s\n",
            "34:\tlearn: 0.5935362\ttotal: 1.46s\tremaining: 40.3s\n",
            "35:\tlearn: 0.5916347\ttotal: 1.52s\tremaining: 40.6s\n",
            "36:\tlearn: 0.5897581\ttotal: 1.55s\tremaining: 40.2s\n",
            "37:\tlearn: 0.5879699\ttotal: 1.59s\tremaining: 40.2s\n",
            "38:\tlearn: 0.5862400\ttotal: 1.64s\tremaining: 40.4s\n",
            "39:\tlearn: 0.5844508\ttotal: 1.69s\tremaining: 40.5s\n",
            "40:\tlearn: 0.5827580\ttotal: 1.73s\tremaining: 40.5s\n",
            "41:\tlearn: 0.5811269\ttotal: 1.76s\tremaining: 40.2s\n",
            "42:\tlearn: 0.5795084\ttotal: 1.85s\tremaining: 41.2s\n",
            "43:\tlearn: 0.5779369\ttotal: 1.9s\tremaining: 41.3s\n",
            "44:\tlearn: 0.5764046\ttotal: 1.94s\tremaining: 41.2s\n",
            "45:\tlearn: 0.5748815\ttotal: 1.98s\tremaining: 41s\n",
            "46:\tlearn: 0.5733844\ttotal: 2.01s\tremaining: 40.8s\n",
            "47:\tlearn: 0.5719211\ttotal: 2.04s\tremaining: 40.6s\n",
            "48:\tlearn: 0.5704697\ttotal: 2.08s\tremaining: 40.4s\n",
            "49:\tlearn: 0.5690715\ttotal: 2.12s\tremaining: 40.2s\n",
            "50:\tlearn: 0.5676622\ttotal: 2.17s\tremaining: 40.4s\n",
            "51:\tlearn: 0.5663113\ttotal: 2.22s\tremaining: 40.5s\n",
            "52:\tlearn: 0.5650134\ttotal: 2.25s\tremaining: 40.3s\n",
            "53:\tlearn: 0.5637581\ttotal: 2.29s\tremaining: 40.2s\n",
            "54:\tlearn: 0.5625182\ttotal: 2.33s\tremaining: 40.1s\n",
            "55:\tlearn: 0.5612669\ttotal: 2.35s\tremaining: 39.7s\n",
            "56:\tlearn: 0.5601477\ttotal: 2.41s\tremaining: 39.9s\n",
            "57:\tlearn: 0.5589560\ttotal: 2.47s\tremaining: 40.1s\n",
            "58:\tlearn: 0.5577939\ttotal: 2.52s\tremaining: 40.2s\n",
            "59:\tlearn: 0.5567166\ttotal: 2.54s\tremaining: 39.8s\n",
            "60:\tlearn: 0.5556541\ttotal: 2.57s\tremaining: 39.6s\n",
            "61:\tlearn: 0.5545796\ttotal: 2.6s\tremaining: 39.4s\n",
            "62:\tlearn: 0.5534847\ttotal: 2.65s\tremaining: 39.4s\n",
            "63:\tlearn: 0.5524851\ttotal: 2.69s\tremaining: 39.3s\n",
            "64:\tlearn: 0.5514678\ttotal: 2.76s\tremaining: 39.7s\n",
            "65:\tlearn: 0.5504562\ttotal: 2.82s\tremaining: 39.9s\n",
            "66:\tlearn: 0.5494283\ttotal: 2.85s\tremaining: 39.6s\n",
            "67:\tlearn: 0.5484995\ttotal: 2.87s\tremaining: 39.3s\n",
            "68:\tlearn: 0.5475962\ttotal: 2.92s\tremaining: 39.4s\n",
            "69:\tlearn: 0.5466873\ttotal: 2.99s\tremaining: 39.7s\n",
            "70:\tlearn: 0.5457992\ttotal: 3.02s\tremaining: 39.5s\n",
            "71:\tlearn: 0.5449128\ttotal: 3.04s\tremaining: 39.2s\n",
            "72:\tlearn: 0.5440647\ttotal: 3.06s\tremaining: 38.9s\n",
            "73:\tlearn: 0.5432281\ttotal: 3.1s\tremaining: 38.8s\n",
            "74:\tlearn: 0.5423714\ttotal: 3.17s\tremaining: 39.1s\n",
            "75:\tlearn: 0.5415072\ttotal: 3.24s\tremaining: 39.4s\n",
            "76:\tlearn: 0.5406926\ttotal: 3.31s\tremaining: 39.7s\n",
            "77:\tlearn: 0.5399244\ttotal: 3.33s\tremaining: 39.4s\n",
            "78:\tlearn: 0.5391883\ttotal: 3.37s\tremaining: 39.3s\n",
            "79:\tlearn: 0.5384507\ttotal: 3.41s\tremaining: 39.2s\n",
            "80:\tlearn: 0.5376965\ttotal: 3.44s\tremaining: 39s\n",
            "81:\tlearn: 0.5369810\ttotal: 3.49s\tremaining: 39.1s\n",
            "82:\tlearn: 0.5362843\ttotal: 3.56s\tremaining: 39.3s\n",
            "83:\tlearn: 0.5356107\ttotal: 3.6s\tremaining: 39.2s\n",
            "84:\tlearn: 0.5349405\ttotal: 3.62s\tremaining: 39s\n",
            "85:\tlearn: 0.5342839\ttotal: 3.67s\tremaining: 39s\n",
            "86:\tlearn: 0.5336567\ttotal: 3.7s\tremaining: 38.8s\n",
            "87:\tlearn: 0.5330348\ttotal: 3.73s\tremaining: 38.7s\n",
            "88:\tlearn: 0.5324497\ttotal: 3.77s\tremaining: 38.6s\n",
            "89:\tlearn: 0.5318149\ttotal: 3.8s\tremaining: 38.4s\n",
            "90:\tlearn: 0.5312568\ttotal: 3.83s\tremaining: 38.3s\n",
            "91:\tlearn: 0.5306686\ttotal: 3.88s\tremaining: 38.3s\n",
            "92:\tlearn: 0.5301236\ttotal: 3.92s\tremaining: 38.2s\n",
            "93:\tlearn: 0.5295923\ttotal: 3.99s\tremaining: 38.5s\n",
            "94:\tlearn: 0.5290466\ttotal: 4.03s\tremaining: 38.4s\n",
            "95:\tlearn: 0.5285508\ttotal: 4.06s\tremaining: 38.3s\n",
            "96:\tlearn: 0.5280312\ttotal: 4.09s\tremaining: 38.1s\n",
            "97:\tlearn: 0.5274799\ttotal: 4.18s\tremaining: 38.5s\n",
            "98:\tlearn: 0.5269414\ttotal: 4.28s\tremaining: 38.9s\n",
            "99:\tlearn: 0.5264348\ttotal: 4.32s\tremaining: 38.9s\n",
            "100:\tlearn: 0.5259460\ttotal: 4.4s\tremaining: 39.1s\n",
            "101:\tlearn: 0.5254704\ttotal: 4.44s\tremaining: 39.1s\n",
            "102:\tlearn: 0.5249674\ttotal: 4.51s\tremaining: 39.3s\n",
            "103:\tlearn: 0.5245392\ttotal: 4.56s\tremaining: 39.3s\n",
            "104:\tlearn: 0.5241089\ttotal: 4.61s\tremaining: 39.3s\n",
            "105:\tlearn: 0.5236758\ttotal: 4.67s\tremaining: 39.4s\n",
            "106:\tlearn: 0.5232576\ttotal: 4.75s\tremaining: 39.7s\n",
            "107:\tlearn: 0.5228153\ttotal: 4.8s\tremaining: 39.6s\n",
            "108:\tlearn: 0.5224125\ttotal: 4.87s\tremaining: 39.8s\n",
            "109:\tlearn: 0.5219634\ttotal: 4.93s\tremaining: 39.9s\n",
            "110:\tlearn: 0.5215277\ttotal: 4.99s\tremaining: 40s\n",
            "111:\tlearn: 0.5211863\ttotal: 5.05s\tremaining: 40s\n",
            "112:\tlearn: 0.5208380\ttotal: 5.11s\tremaining: 40.1s\n",
            "113:\tlearn: 0.5204514\ttotal: 5.14s\tremaining: 40s\n",
            "114:\tlearn: 0.5200864\ttotal: 5.28s\tremaining: 40.6s\n",
            "115:\tlearn: 0.5197442\ttotal: 5.37s\tremaining: 40.9s\n",
            "116:\tlearn: 0.5193826\ttotal: 5.5s\tremaining: 41.5s\n",
            "117:\tlearn: 0.5190264\ttotal: 5.6s\tremaining: 41.8s\n",
            "118:\tlearn: 0.5186648\ttotal: 5.69s\tremaining: 42.1s\n",
            "119:\tlearn: 0.5183381\ttotal: 5.77s\tremaining: 42.3s\n",
            "120:\tlearn: 0.5180293\ttotal: 5.87s\tremaining: 42.6s\n",
            "121:\tlearn: 0.5177180\ttotal: 5.94s\tremaining: 42.8s\n",
            "122:\tlearn: 0.5173841\ttotal: 6.03s\tremaining: 43s\n",
            "123:\tlearn: 0.5170771\ttotal: 6.13s\tremaining: 43.3s\n",
            "124:\tlearn: 0.5168263\ttotal: 6.2s\tremaining: 43.4s\n",
            "125:\tlearn: 0.5165302\ttotal: 6.27s\tremaining: 43.5s\n",
            "126:\tlearn: 0.5162662\ttotal: 6.34s\tremaining: 43.6s\n",
            "127:\tlearn: 0.5159492\ttotal: 6.44s\tremaining: 43.9s\n",
            "128:\tlearn: 0.5156492\ttotal: 6.49s\tremaining: 43.8s\n",
            "129:\tlearn: 0.5153706\ttotal: 6.54s\tremaining: 43.8s\n",
            "130:\tlearn: 0.5151260\ttotal: 6.61s\tremaining: 43.8s\n",
            "131:\tlearn: 0.5148548\ttotal: 6.7s\tremaining: 44.1s\n",
            "132:\tlearn: 0.5146122\ttotal: 6.82s\tremaining: 44.5s\n",
            "133:\tlearn: 0.5143325\ttotal: 6.91s\tremaining: 44.7s\n",
            "134:\tlearn: 0.5140873\ttotal: 7.02s\tremaining: 45s\n",
            "135:\tlearn: 0.5138512\ttotal: 7.14s\tremaining: 45.3s\n",
            "136:\tlearn: 0.5136250\ttotal: 7.21s\tremaining: 45.4s\n",
            "137:\tlearn: 0.5133880\ttotal: 7.3s\tremaining: 45.6s\n",
            "138:\tlearn: 0.5131809\ttotal: 7.38s\tremaining: 45.7s\n",
            "139:\tlearn: 0.5129425\ttotal: 7.45s\tremaining: 45.8s\n",
            "140:\tlearn: 0.5127227\ttotal: 7.49s\tremaining: 45.6s\n",
            "141:\tlearn: 0.5125171\ttotal: 7.55s\tremaining: 45.6s\n",
            "142:\tlearn: 0.5123172\ttotal: 7.63s\tremaining: 45.8s\n",
            "143:\tlearn: 0.5121195\ttotal: 7.68s\tremaining: 45.7s\n",
            "144:\tlearn: 0.5119111\ttotal: 7.74s\tremaining: 45.6s\n",
            "145:\tlearn: 0.5116903\ttotal: 7.82s\tremaining: 45.7s\n",
            "146:\tlearn: 0.5115273\ttotal: 7.89s\tremaining: 45.8s\n",
            "147:\tlearn: 0.5113287\ttotal: 7.93s\tremaining: 45.7s\n",
            "148:\tlearn: 0.5111341\ttotal: 7.98s\tremaining: 45.6s\n",
            "149:\tlearn: 0.5109332\ttotal: 8.03s\tremaining: 45.5s\n",
            "150:\tlearn: 0.5107730\ttotal: 8.08s\tremaining: 45.5s\n",
            "151:\tlearn: 0.5105983\ttotal: 8.13s\tremaining: 45.4s\n",
            "152:\tlearn: 0.5104371\ttotal: 8.23s\tremaining: 45.6s\n",
            "153:\tlearn: 0.5102613\ttotal: 8.3s\tremaining: 45.6s\n",
            "154:\tlearn: 0.5100890\ttotal: 8.37s\tremaining: 45.6s\n",
            "155:\tlearn: 0.5099231\ttotal: 8.4s\tremaining: 45.4s\n",
            "156:\tlearn: 0.5097481\ttotal: 8.46s\tremaining: 45.5s\n",
            "157:\tlearn: 0.5095785\ttotal: 8.5s\tremaining: 45.3s\n",
            "158:\tlearn: 0.5094117\ttotal: 8.6s\tremaining: 45.5s\n",
            "159:\tlearn: 0.5092492\ttotal: 8.67s\tremaining: 45.5s\n",
            "160:\tlearn: 0.5091032\ttotal: 8.72s\tremaining: 45.5s\n",
            "161:\tlearn: 0.5089627\ttotal: 8.78s\tremaining: 45.4s\n",
            "162:\tlearn: 0.5088142\ttotal: 8.84s\tremaining: 45.4s\n",
            "163:\tlearn: 0.5086757\ttotal: 8.89s\tremaining: 45.3s\n",
            "164:\tlearn: 0.5085300\ttotal: 8.95s\tremaining: 45.3s\n",
            "165:\tlearn: 0.5084068\ttotal: 9s\tremaining: 45.2s\n",
            "166:\tlearn: 0.5082750\ttotal: 9.05s\tremaining: 45.2s\n",
            "167:\tlearn: 0.5081225\ttotal: 9.12s\tremaining: 45.2s\n",
            "168:\tlearn: 0.5080098\ttotal: 9.17s\tremaining: 45.1s\n",
            "169:\tlearn: 0.5078645\ttotal: 9.21s\tremaining: 45s\n",
            "170:\tlearn: 0.5077291\ttotal: 9.26s\tremaining: 44.9s\n",
            "171:\tlearn: 0.5075979\ttotal: 9.31s\tremaining: 44.8s\n",
            "172:\tlearn: 0.5074932\ttotal: 9.37s\tremaining: 44.8s\n",
            "173:\tlearn: 0.5073746\ttotal: 9.42s\tremaining: 44.7s\n",
            "174:\tlearn: 0.5072606\ttotal: 9.48s\tremaining: 44.7s\n",
            "175:\tlearn: 0.5071432\ttotal: 9.56s\tremaining: 44.8s\n",
            "176:\tlearn: 0.5070382\ttotal: 9.62s\tremaining: 44.7s\n",
            "177:\tlearn: 0.5069237\ttotal: 9.68s\tremaining: 44.7s\n",
            "178:\tlearn: 0.5068152\ttotal: 9.75s\tremaining: 44.7s\n",
            "179:\tlearn: 0.5067356\ttotal: 9.8s\tremaining: 44.7s\n",
            "180:\tlearn: 0.5066321\ttotal: 9.86s\tremaining: 44.6s\n",
            "181:\tlearn: 0.5065259\ttotal: 9.93s\tremaining: 44.6s\n",
            "182:\tlearn: 0.5064248\ttotal: 9.98s\tremaining: 44.5s\n",
            "183:\tlearn: 0.5063248\ttotal: 10s\tremaining: 44.5s\n",
            "184:\tlearn: 0.5062183\ttotal: 10.1s\tremaining: 44.3s\n",
            "185:\tlearn: 0.5061099\ttotal: 10.1s\tremaining: 44.2s\n",
            "186:\tlearn: 0.5060157\ttotal: 10.1s\tremaining: 44s\n",
            "187:\tlearn: 0.5059308\ttotal: 10.2s\tremaining: 43.9s\n",
            "188:\tlearn: 0.5058407\ttotal: 10.2s\tremaining: 43.8s\n",
            "189:\tlearn: 0.5057503\ttotal: 10.3s\tremaining: 43.7s\n",
            "190:\tlearn: 0.5056734\ttotal: 10.3s\tremaining: 43.7s\n",
            "191:\tlearn: 0.5055809\ttotal: 10.4s\tremaining: 43.7s\n",
            "192:\tlearn: 0.5055103\ttotal: 10.4s\tremaining: 43.6s\n",
            "193:\tlearn: 0.5054308\ttotal: 10.5s\tremaining: 43.7s\n",
            "194:\tlearn: 0.5053486\ttotal: 10.6s\tremaining: 43.6s\n",
            "195:\tlearn: 0.5052434\ttotal: 10.6s\tremaining: 43.5s\n",
            "196:\tlearn: 0.5051669\ttotal: 10.6s\tremaining: 43.4s\n",
            "197:\tlearn: 0.5050902\ttotal: 10.7s\tremaining: 43.3s\n",
            "198:\tlearn: 0.5050156\ttotal: 10.7s\tremaining: 43.3s\n",
            "199:\tlearn: 0.5049556\ttotal: 10.8s\tremaining: 43.2s\n",
            "200:\tlearn: 0.5048571\ttotal: 10.8s\tremaining: 43.1s\n",
            "201:\tlearn: 0.5047859\ttotal: 10.9s\tremaining: 43s\n",
            "202:\tlearn: 0.5047019\ttotal: 10.9s\tremaining: 42.9s\n",
            "203:\tlearn: 0.5046414\ttotal: 11s\tremaining: 42.9s\n",
            "204:\tlearn: 0.5045750\ttotal: 11.1s\tremaining: 42.9s\n",
            "205:\tlearn: 0.5044821\ttotal: 11.1s\tremaining: 42.9s\n",
            "206:\tlearn: 0.5043900\ttotal: 11.2s\tremaining: 42.8s\n",
            "207:\tlearn: 0.5043318\ttotal: 11.2s\tremaining: 42.7s\n",
            "208:\tlearn: 0.5042667\ttotal: 11.2s\tremaining: 42.5s\n",
            "209:\tlearn: 0.5041694\ttotal: 11.3s\tremaining: 42.4s\n",
            "210:\tlearn: 0.5040968\ttotal: 11.3s\tremaining: 42.3s\n",
            "211:\tlearn: 0.5040308\ttotal: 11.4s\tremaining: 42.2s\n",
            "212:\tlearn: 0.5039466\ttotal: 11.4s\tremaining: 42.1s\n",
            "213:\tlearn: 0.5038849\ttotal: 11.5s\tremaining: 42.2s\n",
            "214:\tlearn: 0.5038327\ttotal: 11.6s\tremaining: 42.2s\n",
            "215:\tlearn: 0.5037753\ttotal: 11.6s\tremaining: 42.2s\n",
            "216:\tlearn: 0.5037054\ttotal: 11.7s\tremaining: 42.1s\n",
            "217:\tlearn: 0.5036434\ttotal: 11.7s\tremaining: 42s\n",
            "218:\tlearn: 0.5035913\ttotal: 11.7s\tremaining: 41.9s\n",
            "219:\tlearn: 0.5035493\ttotal: 11.8s\tremaining: 41.8s\n",
            "220:\tlearn: 0.5034874\ttotal: 11.8s\tremaining: 41.7s\n",
            "221:\tlearn: 0.5034213\ttotal: 11.9s\tremaining: 41.7s\n",
            "222:\tlearn: 0.5033705\ttotal: 11.9s\tremaining: 41.6s\n",
            "223:\tlearn: 0.5033051\ttotal: 12s\tremaining: 41.5s\n",
            "224:\tlearn: 0.5032552\ttotal: 12.1s\tremaining: 41.5s\n",
            "225:\tlearn: 0.5032073\ttotal: 12.1s\tremaining: 41.4s\n",
            "226:\tlearn: 0.5031635\ttotal: 12.1s\tremaining: 41.3s\n",
            "227:\tlearn: 0.5031039\ttotal: 12.2s\tremaining: 41.2s\n",
            "228:\tlearn: 0.5030607\ttotal: 12.2s\tremaining: 41.2s\n",
            "229:\tlearn: 0.5030093\ttotal: 12.2s\tremaining: 41s\n",
            "230:\tlearn: 0.5029699\ttotal: 12.3s\tremaining: 41s\n",
            "231:\tlearn: 0.5029130\ttotal: 12.4s\tremaining: 41s\n",
            "232:\tlearn: 0.5028732\ttotal: 12.4s\tremaining: 41s\n",
            "233:\tlearn: 0.5028191\ttotal: 12.5s\tremaining: 40.8s\n",
            "234:\tlearn: 0.5027733\ttotal: 12.5s\tremaining: 40.7s\n",
            "235:\tlearn: 0.5027358\ttotal: 12.6s\tremaining: 40.7s\n",
            "236:\tlearn: 0.5026853\ttotal: 12.6s\tremaining: 40.6s\n",
            "237:\tlearn: 0.5026475\ttotal: 12.7s\tremaining: 40.6s\n",
            "238:\tlearn: 0.5026086\ttotal: 12.7s\tremaining: 40.5s\n",
            "239:\tlearn: 0.5025712\ttotal: 12.8s\tremaining: 40.4s\n",
            "240:\tlearn: 0.5025312\ttotal: 12.8s\tremaining: 40.3s\n",
            "241:\tlearn: 0.5024723\ttotal: 12.8s\tremaining: 40.2s\n",
            "242:\tlearn: 0.5024264\ttotal: 12.9s\tremaining: 40.1s\n",
            "243:\tlearn: 0.5023864\ttotal: 12.9s\tremaining: 40s\n",
            "244:\tlearn: 0.5023504\ttotal: 13s\tremaining: 40s\n",
            "245:\tlearn: 0.5023208\ttotal: 13s\tremaining: 39.9s\n",
            "246:\tlearn: 0.5022657\ttotal: 13.1s\tremaining: 39.9s\n",
            "247:\tlearn: 0.5022386\ttotal: 13.1s\tremaining: 39.9s\n",
            "248:\tlearn: 0.5022000\ttotal: 13.2s\tremaining: 39.8s\n",
            "249:\tlearn: 0.5021648\ttotal: 13.2s\tremaining: 39.7s\n",
            "250:\tlearn: 0.5021371\ttotal: 13.3s\tremaining: 39.6s\n",
            "251:\tlearn: 0.5020918\ttotal: 13.3s\tremaining: 39.6s\n",
            "252:\tlearn: 0.5020536\ttotal: 13.4s\tremaining: 39.5s\n",
            "253:\tlearn: 0.5020201\ttotal: 13.4s\tremaining: 39.5s\n",
            "254:\tlearn: 0.5019906\ttotal: 13.5s\tremaining: 39.4s\n",
            "255:\tlearn: 0.5019500\ttotal: 13.5s\tremaining: 39.4s\n",
            "256:\tlearn: 0.5019133\ttotal: 13.6s\tremaining: 39.3s\n",
            "257:\tlearn: 0.5018861\ttotal: 13.6s\tremaining: 39.2s\n",
            "258:\tlearn: 0.5018595\ttotal: 13.7s\tremaining: 39.1s\n",
            "259:\tlearn: 0.5018311\ttotal: 13.7s\tremaining: 39s\n",
            "260:\tlearn: 0.5017985\ttotal: 13.7s\tremaining: 38.9s\n",
            "261:\tlearn: 0.5017736\ttotal: 13.8s\tremaining: 38.9s\n",
            "262:\tlearn: 0.5017366\ttotal: 13.8s\tremaining: 38.7s\n",
            "263:\tlearn: 0.5017020\ttotal: 13.9s\tremaining: 38.6s\n",
            "264:\tlearn: 0.5016688\ttotal: 13.9s\tremaining: 38.6s\n",
            "265:\tlearn: 0.5016430\ttotal: 13.9s\tremaining: 38.4s\n",
            "266:\tlearn: 0.5016138\ttotal: 14s\tremaining: 38.4s\n",
            "267:\tlearn: 0.5015833\ttotal: 14s\tremaining: 38.3s\n",
            "268:\tlearn: 0.5015581\ttotal: 14.1s\tremaining: 38.3s\n",
            "269:\tlearn: 0.5015114\ttotal: 14.2s\tremaining: 38.3s\n",
            "270:\tlearn: 0.5014794\ttotal: 14.2s\tremaining: 38.2s\n",
            "271:\tlearn: 0.5014568\ttotal: 14.3s\tremaining: 38.2s\n",
            "272:\tlearn: 0.5014305\ttotal: 14.3s\tremaining: 38.1s\n",
            "273:\tlearn: 0.5014004\ttotal: 14.4s\tremaining: 38.1s\n",
            "274:\tlearn: 0.5013610\ttotal: 14.4s\tremaining: 38.1s\n",
            "275:\tlearn: 0.5013379\ttotal: 14.6s\tremaining: 38.2s\n",
            "276:\tlearn: 0.5013016\ttotal: 14.6s\tremaining: 38.1s\n",
            "277:\tlearn: 0.5012734\ttotal: 14.7s\tremaining: 38.1s\n",
            "278:\tlearn: 0.5012455\ttotal: 14.7s\tremaining: 37.9s\n",
            "279:\tlearn: 0.5012197\ttotal: 14.7s\tremaining: 37.9s\n",
            "280:\tlearn: 0.5011863\ttotal: 14.8s\tremaining: 37.9s\n",
            "281:\tlearn: 0.5011453\ttotal: 14.9s\tremaining: 37.8s\n",
            "282:\tlearn: 0.5011162\ttotal: 14.9s\tremaining: 37.8s\n",
            "283:\tlearn: 0.5010905\ttotal: 15s\tremaining: 37.9s\n",
            "284:\tlearn: 0.5010506\ttotal: 15.1s\tremaining: 37.9s\n",
            "285:\tlearn: 0.5010234\ttotal: 15.2s\tremaining: 37.9s\n",
            "286:\tlearn: 0.5009972\ttotal: 15.2s\tremaining: 37.9s\n",
            "287:\tlearn: 0.5009574\ttotal: 15.3s\tremaining: 37.8s\n",
            "288:\tlearn: 0.5009331\ttotal: 15.4s\tremaining: 37.8s\n",
            "289:\tlearn: 0.5009033\ttotal: 15.4s\tremaining: 37.7s\n",
            "290:\tlearn: 0.5008742\ttotal: 15.5s\tremaining: 37.7s\n",
            "291:\tlearn: 0.5008519\ttotal: 15.5s\tremaining: 37.6s\n",
            "292:\tlearn: 0.5008321\ttotal: 15.6s\tremaining: 37.6s\n",
            "293:\tlearn: 0.5007988\ttotal: 15.6s\tremaining: 37.6s\n",
            "294:\tlearn: 0.5007772\ttotal: 15.7s\tremaining: 37.5s\n",
            "295:\tlearn: 0.5007513\ttotal: 15.8s\tremaining: 37.5s\n",
            "296:\tlearn: 0.5007308\ttotal: 15.8s\tremaining: 37.4s\n",
            "297:\tlearn: 0.5007001\ttotal: 15.9s\tremaining: 37.4s\n",
            "298:\tlearn: 0.5006744\ttotal: 15.9s\tremaining: 37.4s\n",
            "299:\tlearn: 0.5006571\ttotal: 16s\tremaining: 37.3s\n",
            "300:\tlearn: 0.5006361\ttotal: 16s\tremaining: 37.1s\n",
            "301:\tlearn: 0.5005983\ttotal: 16s\tremaining: 37.1s\n",
            "302:\tlearn: 0.5005726\ttotal: 16.1s\tremaining: 37s\n",
            "303:\tlearn: 0.5005502\ttotal: 16.1s\tremaining: 36.9s\n",
            "304:\tlearn: 0.5005269\ttotal: 16.2s\tremaining: 36.8s\n",
            "305:\tlearn: 0.5005020\ttotal: 16.2s\tremaining: 36.7s\n",
            "306:\tlearn: 0.5004680\ttotal: 16.2s\tremaining: 36.6s\n",
            "307:\tlearn: 0.5004372\ttotal: 16.3s\tremaining: 36.6s\n",
            "308:\tlearn: 0.5004104\ttotal: 16.3s\tremaining: 36.5s\n",
            "309:\tlearn: 0.5003803\ttotal: 16.4s\tremaining: 36.5s\n",
            "310:\tlearn: 0.5003634\ttotal: 16.4s\tremaining: 36.4s\n",
            "311:\tlearn: 0.5003421\ttotal: 16.5s\tremaining: 36.3s\n",
            "312:\tlearn: 0.5003104\ttotal: 16.5s\tremaining: 36.2s\n",
            "313:\tlearn: 0.5002820\ttotal: 16.6s\tremaining: 36.2s\n",
            "314:\tlearn: 0.5002481\ttotal: 16.6s\tremaining: 36.1s\n",
            "315:\tlearn: 0.5002271\ttotal: 16.6s\tremaining: 36s\n",
            "316:\tlearn: 0.5001971\ttotal: 16.7s\tremaining: 36s\n",
            "317:\tlearn: 0.5001753\ttotal: 16.7s\tremaining: 35.9s\n",
            "318:\tlearn: 0.5001520\ttotal: 16.8s\tremaining: 35.8s\n",
            "319:\tlearn: 0.5001363\ttotal: 16.8s\tremaining: 35.7s\n",
            "320:\tlearn: 0.5001178\ttotal: 16.8s\tremaining: 35.6s\n",
            "321:\tlearn: 0.5001057\ttotal: 16.9s\tremaining: 35.5s\n",
            "322:\tlearn: 0.5000832\ttotal: 16.9s\tremaining: 35.5s\n",
            "323:\tlearn: 0.5000599\ttotal: 17s\tremaining: 35.4s\n",
            "324:\tlearn: 0.5000363\ttotal: 17s\tremaining: 35.4s\n",
            "325:\tlearn: 0.5000162\ttotal: 17.1s\tremaining: 35.3s\n",
            "326:\tlearn: 0.4999900\ttotal: 17.1s\tremaining: 35.2s\n",
            "327:\tlearn: 0.4999705\ttotal: 17.1s\tremaining: 35.1s\n",
            "328:\tlearn: 0.4999503\ttotal: 17.2s\tremaining: 35.1s\n",
            "329:\tlearn: 0.4999288\ttotal: 17.2s\tremaining: 35s\n",
            "330:\tlearn: 0.4999226\ttotal: 17.3s\tremaining: 34.9s\n",
            "331:\tlearn: 0.4999026\ttotal: 17.3s\tremaining: 34.8s\n",
            "332:\tlearn: 0.4998871\ttotal: 17.3s\tremaining: 34.7s\n",
            "333:\tlearn: 0.4998740\ttotal: 17.3s\tremaining: 34.6s\n",
            "334:\tlearn: 0.4998646\ttotal: 17.4s\tremaining: 34.5s\n",
            "335:\tlearn: 0.4998434\ttotal: 17.5s\tremaining: 34.5s\n",
            "336:\tlearn: 0.4998168\ttotal: 17.5s\tremaining: 34.5s\n",
            "337:\tlearn: 0.4998005\ttotal: 17.6s\tremaining: 34.5s\n",
            "338:\tlearn: 0.4997807\ttotal: 17.7s\tremaining: 34.5s\n",
            "339:\tlearn: 0.4997694\ttotal: 17.7s\tremaining: 34.4s\n",
            "340:\tlearn: 0.4997534\ttotal: 17.8s\tremaining: 34.5s\n",
            "341:\tlearn: 0.4997356\ttotal: 17.9s\tremaining: 34.5s\n",
            "342:\tlearn: 0.4997217\ttotal: 18s\tremaining: 34.4s\n",
            "343:\tlearn: 0.4997085\ttotal: 18s\tremaining: 34.4s\n",
            "344:\tlearn: 0.4996874\ttotal: 18.1s\tremaining: 34.5s\n",
            "345:\tlearn: 0.4996678\ttotal: 18.2s\tremaining: 34.5s\n",
            "346:\tlearn: 0.4996503\ttotal: 18.3s\tremaining: 34.5s\n",
            "347:\tlearn: 0.4996400\ttotal: 18.4s\tremaining: 34.5s\n",
            "348:\tlearn: 0.4996266\ttotal: 18.5s\tremaining: 34.5s\n",
            "349:\tlearn: 0.4996088\ttotal: 18.6s\tremaining: 34.5s\n",
            "350:\tlearn: 0.4995915\ttotal: 18.7s\tremaining: 34.5s\n",
            "351:\tlearn: 0.4995719\ttotal: 18.8s\tremaining: 34.6s\n",
            "352:\tlearn: 0.4995529\ttotal: 18.9s\tremaining: 34.7s\n",
            "353:\tlearn: 0.4995366\ttotal: 19s\tremaining: 34.7s\n",
            "354:\tlearn: 0.4995204\ttotal: 19.1s\tremaining: 34.8s\n",
            "355:\tlearn: 0.4995128\ttotal: 19.2s\tremaining: 34.7s\n",
            "356:\tlearn: 0.4994912\ttotal: 19.3s\tremaining: 34.7s\n",
            "357:\tlearn: 0.4994723\ttotal: 19.4s\tremaining: 34.7s\n",
            "358:\tlearn: 0.4994574\ttotal: 19.4s\tremaining: 34.7s\n",
            "359:\tlearn: 0.4994346\ttotal: 19.5s\tremaining: 34.7s\n",
            "360:\tlearn: 0.4994185\ttotal: 19.6s\tremaining: 34.7s\n",
            "361:\tlearn: 0.4994002\ttotal: 19.7s\tremaining: 34.7s\n",
            "362:\tlearn: 0.4993869\ttotal: 19.7s\tremaining: 34.6s\n",
            "363:\tlearn: 0.4993714\ttotal: 19.8s\tremaining: 34.7s\n",
            "364:\tlearn: 0.4993605\ttotal: 19.9s\tremaining: 34.7s\n",
            "365:\tlearn: 0.4993442\ttotal: 20s\tremaining: 34.7s\n",
            "366:\tlearn: 0.4993364\ttotal: 20.1s\tremaining: 34.7s\n",
            "367:\tlearn: 0.4993193\ttotal: 20.2s\tremaining: 34.8s\n",
            "368:\tlearn: 0.4992967\ttotal: 20.3s\tremaining: 34.8s\n",
            "369:\tlearn: 0.4992798\ttotal: 20.4s\tremaining: 34.7s\n",
            "370:\tlearn: 0.4992591\ttotal: 20.4s\tremaining: 34.6s\n",
            "371:\tlearn: 0.4992510\ttotal: 20.5s\tremaining: 34.6s\n",
            "372:\tlearn: 0.4992381\ttotal: 20.6s\tremaining: 34.6s\n",
            "373:\tlearn: 0.4992154\ttotal: 20.6s\tremaining: 34.5s\n",
            "374:\tlearn: 0.4991968\ttotal: 20.7s\tremaining: 34.5s\n",
            "375:\tlearn: 0.4991776\ttotal: 20.8s\tremaining: 34.4s\n",
            "376:\tlearn: 0.4991571\ttotal: 20.8s\tremaining: 34.4s\n",
            "377:\tlearn: 0.4991421\ttotal: 20.9s\tremaining: 34.4s\n",
            "378:\tlearn: 0.4991205\ttotal: 21s\tremaining: 34.4s\n",
            "379:\tlearn: 0.4991044\ttotal: 21s\tremaining: 34.3s\n",
            "380:\tlearn: 0.4990942\ttotal: 21.1s\tremaining: 34.3s\n",
            "381:\tlearn: 0.4990713\ttotal: 21.2s\tremaining: 34.2s\n",
            "382:\tlearn: 0.4990533\ttotal: 21.2s\tremaining: 34.2s\n",
            "383:\tlearn: 0.4990432\ttotal: 21.3s\tremaining: 34.1s\n",
            "384:\tlearn: 0.4990325\ttotal: 21.3s\tremaining: 34.1s\n",
            "385:\tlearn: 0.4990174\ttotal: 21.4s\tremaining: 34s\n",
            "386:\tlearn: 0.4989980\ttotal: 21.5s\tremaining: 34s\n",
            "387:\tlearn: 0.4989805\ttotal: 21.5s\tremaining: 34s\n",
            "388:\tlearn: 0.4989677\ttotal: 21.6s\tremaining: 33.9s\n",
            "389:\tlearn: 0.4989549\ttotal: 21.6s\tremaining: 33.8s\n",
            "390:\tlearn: 0.4989435\ttotal: 21.7s\tremaining: 33.7s\n",
            "391:\tlearn: 0.4989250\ttotal: 21.7s\tremaining: 33.7s\n",
            "392:\tlearn: 0.4989074\ttotal: 21.8s\tremaining: 33.6s\n",
            "393:\tlearn: 0.4988923\ttotal: 21.8s\tremaining: 33.6s\n",
            "394:\tlearn: 0.4988755\ttotal: 21.9s\tremaining: 33.5s\n",
            "395:\tlearn: 0.4988643\ttotal: 21.9s\tremaining: 33.4s\n",
            "396:\tlearn: 0.4988504\ttotal: 22s\tremaining: 33.4s\n",
            "397:\tlearn: 0.4988399\ttotal: 22s\tremaining: 33.3s\n",
            "398:\tlearn: 0.4988276\ttotal: 22s\tremaining: 33.2s\n",
            "399:\tlearn: 0.4988155\ttotal: 22.1s\tremaining: 33.1s\n",
            "400:\tlearn: 0.4988057\ttotal: 22.1s\tremaining: 33.1s\n",
            "401:\tlearn: 0.4987923\ttotal: 22.2s\tremaining: 33s\n",
            "402:\tlearn: 0.4987802\ttotal: 22.2s\tremaining: 32.9s\n",
            "403:\tlearn: 0.4987706\ttotal: 22.2s\tremaining: 32.8s\n",
            "404:\tlearn: 0.4987489\ttotal: 22.3s\tremaining: 32.8s\n",
            "405:\tlearn: 0.4987284\ttotal: 22.4s\tremaining: 32.7s\n",
            "406:\tlearn: 0.4987156\ttotal: 22.4s\tremaining: 32.6s\n",
            "407:\tlearn: 0.4986987\ttotal: 22.4s\tremaining: 32.5s\n",
            "408:\tlearn: 0.4986816\ttotal: 22.4s\tremaining: 32.4s\n",
            "409:\tlearn: 0.4986624\ttotal: 22.5s\tremaining: 32.4s\n",
            "410:\tlearn: 0.4986512\ttotal: 22.6s\tremaining: 32.4s\n",
            "411:\tlearn: 0.4986389\ttotal: 22.6s\tremaining: 32.3s\n",
            "412:\tlearn: 0.4986234\ttotal: 22.7s\tremaining: 32.3s\n",
            "413:\tlearn: 0.4986063\ttotal: 22.8s\tremaining: 32.2s\n",
            "414:\tlearn: 0.4985899\ttotal: 22.8s\tremaining: 32.1s\n",
            "415:\tlearn: 0.4985784\ttotal: 22.8s\tremaining: 32s\n",
            "416:\tlearn: 0.4985630\ttotal: 22.9s\tremaining: 32s\n",
            "417:\tlearn: 0.4985416\ttotal: 22.9s\tremaining: 31.9s\n",
            "418:\tlearn: 0.4985265\ttotal: 23s\tremaining: 31.9s\n",
            "419:\tlearn: 0.4984991\ttotal: 23s\tremaining: 31.8s\n",
            "420:\tlearn: 0.4984763\ttotal: 23.1s\tremaining: 31.7s\n",
            "421:\tlearn: 0.4984594\ttotal: 23.1s\tremaining: 31.7s\n",
            "422:\tlearn: 0.4984449\ttotal: 23.2s\tremaining: 31.6s\n",
            "423:\tlearn: 0.4984322\ttotal: 23.2s\tremaining: 31.6s\n",
            "424:\tlearn: 0.4984122\ttotal: 23.3s\tremaining: 31.5s\n",
            "425:\tlearn: 0.4984006\ttotal: 23.3s\tremaining: 31.4s\n",
            "426:\tlearn: 0.4983850\ttotal: 23.4s\tremaining: 31.4s\n",
            "427:\tlearn: 0.4983696\ttotal: 23.5s\tremaining: 31.4s\n",
            "428:\tlearn: 0.4983529\ttotal: 23.6s\tremaining: 31.4s\n",
            "429:\tlearn: 0.4983373\ttotal: 23.7s\tremaining: 31.4s\n",
            "430:\tlearn: 0.4983262\ttotal: 23.7s\tremaining: 31.3s\n",
            "431:\tlearn: 0.4983106\ttotal: 23.8s\tremaining: 31.3s\n",
            "432:\tlearn: 0.4982962\ttotal: 23.9s\tremaining: 31.3s\n",
            "433:\tlearn: 0.4982761\ttotal: 24s\tremaining: 31.2s\n",
            "434:\tlearn: 0.4982663\ttotal: 24s\tremaining: 31.2s\n",
            "435:\tlearn: 0.4982562\ttotal: 24.1s\tremaining: 31.1s\n",
            "436:\tlearn: 0.4982451\ttotal: 24.2s\tremaining: 31.1s\n",
            "437:\tlearn: 0.4982193\ttotal: 24.2s\tremaining: 31.1s\n",
            "438:\tlearn: 0.4981994\ttotal: 24.3s\tremaining: 31s\n",
            "439:\tlearn: 0.4981838\ttotal: 24.4s\tremaining: 31s\n",
            "440:\tlearn: 0.4981658\ttotal: 24.5s\tremaining: 31s\n",
            "441:\tlearn: 0.4981478\ttotal: 24.6s\tremaining: 31s\n",
            "442:\tlearn: 0.4981358\ttotal: 24.6s\tremaining: 31s\n",
            "443:\tlearn: 0.4981210\ttotal: 24.7s\tremaining: 31s\n",
            "444:\tlearn: 0.4981013\ttotal: 24.8s\tremaining: 30.9s\n",
            "445:\tlearn: 0.4980893\ttotal: 24.9s\tremaining: 30.9s\n",
            "446:\tlearn: 0.4980808\ttotal: 24.9s\tremaining: 30.8s\n",
            "447:\tlearn: 0.4980721\ttotal: 25s\tremaining: 30.8s\n",
            "448:\tlearn: 0.4980600\ttotal: 25.1s\tremaining: 30.8s\n",
            "449:\tlearn: 0.4980372\ttotal: 25.2s\tremaining: 30.7s\n",
            "450:\tlearn: 0.4980117\ttotal: 25.2s\tremaining: 30.7s\n",
            "451:\tlearn: 0.4979949\ttotal: 25.3s\tremaining: 30.7s\n",
            "452:\tlearn: 0.4979854\ttotal: 25.3s\tremaining: 30.6s\n",
            "453:\tlearn: 0.4979763\ttotal: 25.4s\tremaining: 30.5s\n",
            "454:\tlearn: 0.4979515\ttotal: 25.4s\tremaining: 30.5s\n",
            "455:\tlearn: 0.4979372\ttotal: 25.5s\tremaining: 30.4s\n",
            "456:\tlearn: 0.4979195\ttotal: 25.5s\tremaining: 30.3s\n",
            "457:\tlearn: 0.4979080\ttotal: 25.6s\tremaining: 30.3s\n",
            "458:\tlearn: 0.4978853\ttotal: 25.7s\tremaining: 30.2s\n",
            "459:\tlearn: 0.4978657\ttotal: 25.7s\tremaining: 30.2s\n",
            "460:\tlearn: 0.4978474\ttotal: 25.7s\tremaining: 30.1s\n",
            "461:\tlearn: 0.4978326\ttotal: 25.8s\tremaining: 30s\n",
            "462:\tlearn: 0.4978146\ttotal: 25.8s\tremaining: 30s\n",
            "463:\tlearn: 0.4978034\ttotal: 25.9s\tremaining: 29.9s\n",
            "464:\tlearn: 0.4977915\ttotal: 25.9s\tremaining: 29.8s\n",
            "465:\tlearn: 0.4977735\ttotal: 26s\tremaining: 29.8s\n",
            "466:\tlearn: 0.4977612\ttotal: 26.1s\tremaining: 29.7s\n",
            "467:\tlearn: 0.4977496\ttotal: 26.1s\tremaining: 29.7s\n",
            "468:\tlearn: 0.4977354\ttotal: 26.2s\tremaining: 29.6s\n",
            "469:\tlearn: 0.4977235\ttotal: 26.2s\tremaining: 29.5s\n",
            "470:\tlearn: 0.4977157\ttotal: 26.2s\tremaining: 29.5s\n",
            "471:\tlearn: 0.4977010\ttotal: 26.3s\tremaining: 29.4s\n",
            "472:\tlearn: 0.4976789\ttotal: 26.4s\tremaining: 29.4s\n",
            "473:\tlearn: 0.4976625\ttotal: 26.5s\tremaining: 29.4s\n",
            "474:\tlearn: 0.4976416\ttotal: 26.5s\tremaining: 29.3s\n",
            "475:\tlearn: 0.4976215\ttotal: 26.6s\tremaining: 29.2s\n",
            "476:\tlearn: 0.4975988\ttotal: 26.6s\tremaining: 29.2s\n",
            "477:\tlearn: 0.4975842\ttotal: 26.6s\tremaining: 29.1s\n",
            "478:\tlearn: 0.4975671\ttotal: 26.7s\tremaining: 29s\n",
            "479:\tlearn: 0.4975527\ttotal: 26.7s\tremaining: 28.9s\n",
            "480:\tlearn: 0.4975383\ttotal: 26.7s\tremaining: 28.9s\n",
            "481:\tlearn: 0.4975277\ttotal: 26.8s\tremaining: 28.8s\n",
            "482:\tlearn: 0.4975148\ttotal: 26.8s\tremaining: 28.7s\n",
            "483:\tlearn: 0.4975076\ttotal: 26.9s\tremaining: 28.6s\n",
            "484:\tlearn: 0.4974891\ttotal: 26.9s\tremaining: 28.6s\n",
            "485:\tlearn: 0.4974766\ttotal: 27s\tremaining: 28.5s\n",
            "486:\tlearn: 0.4974638\ttotal: 27s\tremaining: 28.4s\n",
            "487:\tlearn: 0.4974545\ttotal: 27.1s\tremaining: 28.4s\n",
            "488:\tlearn: 0.4974396\ttotal: 27.1s\tremaining: 28.3s\n",
            "489:\tlearn: 0.4974300\ttotal: 27.2s\tremaining: 28.3s\n",
            "490:\tlearn: 0.4974119\ttotal: 27.2s\tremaining: 28.2s\n",
            "491:\tlearn: 0.4973934\ttotal: 27.2s\tremaining: 28.1s\n",
            "492:\tlearn: 0.4973821\ttotal: 27.2s\tremaining: 28s\n",
            "493:\tlearn: 0.4973674\ttotal: 27.2s\tremaining: 27.9s\n",
            "494:\tlearn: 0.4973467\ttotal: 27.3s\tremaining: 27.8s\n",
            "495:\tlearn: 0.4973375\ttotal: 27.3s\tremaining: 27.7s\n",
            "496:\tlearn: 0.4973186\ttotal: 27.3s\tremaining: 27.6s\n",
            "497:\tlearn: 0.4973072\ttotal: 27.3s\tremaining: 27.5s\n",
            "498:\tlearn: 0.4972808\ttotal: 27.3s\tremaining: 27.4s\n",
            "499:\tlearn: 0.4972653\ttotal: 27.3s\tremaining: 27.3s\n",
            "500:\tlearn: 0.4972493\ttotal: 27.3s\tremaining: 27.2s\n",
            "501:\tlearn: 0.4972382\ttotal: 27.4s\tremaining: 27.1s\n",
            "502:\tlearn: 0.4972179\ttotal: 27.4s\tremaining: 27.1s\n",
            "503:\tlearn: 0.4971981\ttotal: 27.4s\tremaining: 27s\n",
            "504:\tlearn: 0.4971733\ttotal: 27.4s\tremaining: 26.9s\n",
            "505:\tlearn: 0.4971555\ttotal: 27.4s\tremaining: 26.8s\n",
            "506:\tlearn: 0.4971389\ttotal: 27.4s\tremaining: 26.7s\n",
            "507:\tlearn: 0.4971111\ttotal: 27.4s\tremaining: 26.6s\n",
            "508:\tlearn: 0.4970946\ttotal: 27.5s\tremaining: 26.5s\n",
            "509:\tlearn: 0.4970769\ttotal: 27.5s\tremaining: 26.4s\n",
            "510:\tlearn: 0.4970679\ttotal: 27.5s\tremaining: 26.3s\n",
            "511:\tlearn: 0.4970479\ttotal: 27.5s\tremaining: 26.2s\n",
            "512:\tlearn: 0.4970299\ttotal: 27.5s\tremaining: 26.1s\n",
            "513:\tlearn: 0.4970124\ttotal: 27.5s\tremaining: 26s\n",
            "514:\tlearn: 0.4969977\ttotal: 27.5s\tremaining: 25.9s\n",
            "515:\tlearn: 0.4969849\ttotal: 27.5s\tremaining: 25.8s\n",
            "516:\tlearn: 0.4969687\ttotal: 27.6s\tremaining: 25.7s\n",
            "517:\tlearn: 0.4969472\ttotal: 27.6s\tremaining: 25.7s\n",
            "518:\tlearn: 0.4969349\ttotal: 27.6s\tremaining: 25.6s\n",
            "519:\tlearn: 0.4969201\ttotal: 27.6s\tremaining: 25.5s\n",
            "520:\tlearn: 0.4969056\ttotal: 27.6s\tremaining: 25.4s\n",
            "521:\tlearn: 0.4968988\ttotal: 27.6s\tremaining: 25.3s\n",
            "522:\tlearn: 0.4968829\ttotal: 27.6s\tremaining: 25.2s\n",
            "523:\tlearn: 0.4968738\ttotal: 27.7s\tremaining: 25.1s\n",
            "524:\tlearn: 0.4968648\ttotal: 27.7s\tremaining: 25s\n",
            "525:\tlearn: 0.4968474\ttotal: 27.7s\tremaining: 24.9s\n",
            "526:\tlearn: 0.4968340\ttotal: 27.7s\tremaining: 24.8s\n",
            "527:\tlearn: 0.4968199\ttotal: 27.7s\tremaining: 24.8s\n",
            "528:\tlearn: 0.4968057\ttotal: 27.7s\tremaining: 24.7s\n",
            "529:\tlearn: 0.4967978\ttotal: 27.7s\tremaining: 24.6s\n",
            "530:\tlearn: 0.4967851\ttotal: 27.7s\tremaining: 24.5s\n",
            "531:\tlearn: 0.4967753\ttotal: 27.7s\tremaining: 24.4s\n",
            "532:\tlearn: 0.4967560\ttotal: 27.8s\tremaining: 24.3s\n",
            "533:\tlearn: 0.4967416\ttotal: 27.8s\tremaining: 24.2s\n",
            "534:\tlearn: 0.4967344\ttotal: 27.8s\tremaining: 24.2s\n",
            "535:\tlearn: 0.4967213\ttotal: 27.8s\tremaining: 24.1s\n",
            "536:\tlearn: 0.4967060\ttotal: 27.8s\tremaining: 24s\n",
            "537:\tlearn: 0.4966898\ttotal: 27.8s\tremaining: 23.9s\n",
            "538:\tlearn: 0.4966791\ttotal: 27.8s\tremaining: 23.8s\n",
            "539:\tlearn: 0.4966716\ttotal: 27.9s\tremaining: 23.7s\n",
            "540:\tlearn: 0.4966585\ttotal: 27.9s\tremaining: 23.6s\n",
            "541:\tlearn: 0.4966384\ttotal: 27.9s\tremaining: 23.6s\n",
            "542:\tlearn: 0.4966233\ttotal: 27.9s\tremaining: 23.5s\n",
            "543:\tlearn: 0.4966111\ttotal: 27.9s\tremaining: 23.4s\n",
            "544:\tlearn: 0.4965934\ttotal: 27.9s\tremaining: 23.3s\n",
            "545:\tlearn: 0.4965847\ttotal: 27.9s\tremaining: 23.2s\n",
            "546:\tlearn: 0.4965714\ttotal: 27.9s\tremaining: 23.1s\n",
            "547:\tlearn: 0.4965606\ttotal: 28s\tremaining: 23.1s\n",
            "548:\tlearn: 0.4965449\ttotal: 28s\tremaining: 23s\n",
            "549:\tlearn: 0.4965293\ttotal: 28s\tremaining: 22.9s\n",
            "550:\tlearn: 0.4965200\ttotal: 28s\tremaining: 22.8s\n",
            "551:\tlearn: 0.4965051\ttotal: 28s\tremaining: 22.7s\n",
            "552:\tlearn: 0.4964886\ttotal: 28s\tremaining: 22.6s\n",
            "553:\tlearn: 0.4964720\ttotal: 28s\tremaining: 22.6s\n",
            "554:\tlearn: 0.4964631\ttotal: 28.1s\tremaining: 22.5s\n",
            "555:\tlearn: 0.4964577\ttotal: 28.1s\tremaining: 22.4s\n",
            "556:\tlearn: 0.4964455\ttotal: 28.1s\tremaining: 22.3s\n",
            "557:\tlearn: 0.4964292\ttotal: 28.1s\tremaining: 22.3s\n",
            "558:\tlearn: 0.4964162\ttotal: 28.1s\tremaining: 22.2s\n",
            "559:\tlearn: 0.4964001\ttotal: 28.1s\tremaining: 22.1s\n",
            "560:\tlearn: 0.4963904\ttotal: 28.1s\tremaining: 22s\n",
            "561:\tlearn: 0.4963755\ttotal: 28.1s\tremaining: 21.9s\n",
            "562:\tlearn: 0.4963617\ttotal: 28.2s\tremaining: 21.9s\n",
            "563:\tlearn: 0.4963468\ttotal: 28.2s\tremaining: 21.8s\n",
            "564:\tlearn: 0.4963369\ttotal: 28.2s\tremaining: 21.7s\n",
            "565:\tlearn: 0.4963271\ttotal: 28.2s\tremaining: 21.6s\n",
            "566:\tlearn: 0.4963103\ttotal: 28.2s\tremaining: 21.5s\n",
            "567:\tlearn: 0.4963032\ttotal: 28.2s\tremaining: 21.5s\n",
            "568:\tlearn: 0.4962935\ttotal: 28.2s\tremaining: 21.4s\n",
            "569:\tlearn: 0.4962866\ttotal: 28.2s\tremaining: 21.3s\n",
            "570:\tlearn: 0.4962674\ttotal: 28.3s\tremaining: 21.2s\n",
            "571:\tlearn: 0.4962518\ttotal: 28.3s\tremaining: 21.2s\n",
            "572:\tlearn: 0.4962360\ttotal: 28.3s\tremaining: 21.1s\n",
            "573:\tlearn: 0.4962294\ttotal: 28.3s\tremaining: 21s\n",
            "574:\tlearn: 0.4962183\ttotal: 28.3s\tremaining: 20.9s\n",
            "575:\tlearn: 0.4961966\ttotal: 28.3s\tremaining: 20.8s\n",
            "576:\tlearn: 0.4961855\ttotal: 28.3s\tremaining: 20.8s\n",
            "577:\tlearn: 0.4961752\ttotal: 28.4s\tremaining: 20.7s\n",
            "578:\tlearn: 0.4961547\ttotal: 28.4s\tremaining: 20.6s\n",
            "579:\tlearn: 0.4961359\ttotal: 28.4s\tremaining: 20.6s\n",
            "580:\tlearn: 0.4961200\ttotal: 28.4s\tremaining: 20.5s\n",
            "581:\tlearn: 0.4961064\ttotal: 28.4s\tremaining: 20.4s\n",
            "582:\tlearn: 0.4960890\ttotal: 28.4s\tremaining: 20.3s\n",
            "583:\tlearn: 0.4960789\ttotal: 28.4s\tremaining: 20.3s\n",
            "584:\tlearn: 0.4960644\ttotal: 28.5s\tremaining: 20.2s\n",
            "585:\tlearn: 0.4960500\ttotal: 28.5s\tremaining: 20.1s\n",
            "586:\tlearn: 0.4960345\ttotal: 28.5s\tremaining: 20s\n",
            "587:\tlearn: 0.4960091\ttotal: 28.5s\tremaining: 20s\n",
            "588:\tlearn: 0.4959944\ttotal: 28.5s\tremaining: 19.9s\n",
            "589:\tlearn: 0.4959822\ttotal: 28.5s\tremaining: 19.8s\n",
            "590:\tlearn: 0.4959673\ttotal: 28.5s\tremaining: 19.7s\n",
            "591:\tlearn: 0.4959574\ttotal: 28.5s\tremaining: 19.7s\n",
            "592:\tlearn: 0.4959459\ttotal: 28.6s\tremaining: 19.6s\n",
            "593:\tlearn: 0.4959314\ttotal: 28.6s\tremaining: 19.5s\n",
            "594:\tlearn: 0.4959236\ttotal: 28.6s\tremaining: 19.4s\n",
            "595:\tlearn: 0.4958981\ttotal: 28.6s\tremaining: 19.4s\n",
            "596:\tlearn: 0.4958879\ttotal: 28.6s\tremaining: 19.3s\n",
            "597:\tlearn: 0.4958720\ttotal: 28.6s\tremaining: 19.2s\n",
            "598:\tlearn: 0.4958623\ttotal: 28.6s\tremaining: 19.2s\n",
            "599:\tlearn: 0.4958466\ttotal: 28.6s\tremaining: 19.1s\n",
            "600:\tlearn: 0.4958316\ttotal: 28.7s\tremaining: 19s\n",
            "601:\tlearn: 0.4958231\ttotal: 28.7s\tremaining: 18.9s\n",
            "602:\tlearn: 0.4958112\ttotal: 28.7s\tremaining: 18.9s\n",
            "603:\tlearn: 0.4957981\ttotal: 28.7s\tremaining: 18.8s\n",
            "604:\tlearn: 0.4957925\ttotal: 28.7s\tremaining: 18.7s\n",
            "605:\tlearn: 0.4957737\ttotal: 28.7s\tremaining: 18.7s\n",
            "606:\tlearn: 0.4957583\ttotal: 28.7s\tremaining: 18.6s\n",
            "607:\tlearn: 0.4957415\ttotal: 28.7s\tremaining: 18.5s\n",
            "608:\tlearn: 0.4957336\ttotal: 28.8s\tremaining: 18.5s\n",
            "609:\tlearn: 0.4957207\ttotal: 28.8s\tremaining: 18.4s\n",
            "610:\tlearn: 0.4957102\ttotal: 28.8s\tremaining: 18.3s\n",
            "611:\tlearn: 0.4956846\ttotal: 28.8s\tremaining: 18.3s\n",
            "612:\tlearn: 0.4956682\ttotal: 28.8s\tremaining: 18.2s\n",
            "613:\tlearn: 0.4956537\ttotal: 28.8s\tremaining: 18.1s\n",
            "614:\tlearn: 0.4956430\ttotal: 28.8s\tremaining: 18s\n",
            "615:\tlearn: 0.4956359\ttotal: 28.8s\tremaining: 18s\n",
            "616:\tlearn: 0.4956191\ttotal: 28.9s\tremaining: 17.9s\n",
            "617:\tlearn: 0.4956016\ttotal: 28.9s\tremaining: 17.8s\n",
            "618:\tlearn: 0.4955824\ttotal: 28.9s\tremaining: 17.8s\n",
            "619:\tlearn: 0.4955711\ttotal: 28.9s\tremaining: 17.7s\n",
            "620:\tlearn: 0.4955630\ttotal: 28.9s\tremaining: 17.7s\n",
            "621:\tlearn: 0.4955524\ttotal: 28.9s\tremaining: 17.6s\n",
            "622:\tlearn: 0.4955430\ttotal: 28.9s\tremaining: 17.5s\n",
            "623:\tlearn: 0.4955349\ttotal: 29s\tremaining: 17.4s\n",
            "624:\tlearn: 0.4955145\ttotal: 29s\tremaining: 17.4s\n",
            "625:\tlearn: 0.4955024\ttotal: 29s\tremaining: 17.3s\n",
            "626:\tlearn: 0.4954929\ttotal: 29s\tremaining: 17.2s\n",
            "627:\tlearn: 0.4954773\ttotal: 29s\tremaining: 17.2s\n",
            "628:\tlearn: 0.4954632\ttotal: 29s\tremaining: 17.1s\n",
            "629:\tlearn: 0.4954566\ttotal: 29s\tremaining: 17.1s\n",
            "630:\tlearn: 0.4954449\ttotal: 29.1s\tremaining: 17s\n",
            "631:\tlearn: 0.4954369\ttotal: 29.1s\tremaining: 16.9s\n",
            "632:\tlearn: 0.4954245\ttotal: 29.1s\tremaining: 16.9s\n",
            "633:\tlearn: 0.4954101\ttotal: 29.1s\tremaining: 16.8s\n",
            "634:\tlearn: 0.4953969\ttotal: 29.1s\tremaining: 16.7s\n",
            "635:\tlearn: 0.4953877\ttotal: 29.1s\tremaining: 16.7s\n",
            "636:\tlearn: 0.4953808\ttotal: 29.1s\tremaining: 16.6s\n",
            "637:\tlearn: 0.4953628\ttotal: 29.1s\tremaining: 16.5s\n",
            "638:\tlearn: 0.4953500\ttotal: 29.1s\tremaining: 16.5s\n",
            "639:\tlearn: 0.4953364\ttotal: 29.2s\tremaining: 16.4s\n",
            "640:\tlearn: 0.4953232\ttotal: 29.2s\tremaining: 16.3s\n",
            "641:\tlearn: 0.4953117\ttotal: 29.2s\tremaining: 16.3s\n",
            "642:\tlearn: 0.4953052\ttotal: 29.2s\tremaining: 16.2s\n",
            "643:\tlearn: 0.4952900\ttotal: 29.2s\tremaining: 16.2s\n",
            "644:\tlearn: 0.4952796\ttotal: 29.2s\tremaining: 16.1s\n",
            "645:\tlearn: 0.4952635\ttotal: 29.3s\tremaining: 16s\n",
            "646:\tlearn: 0.4952464\ttotal: 29.3s\tremaining: 16s\n",
            "647:\tlearn: 0.4952363\ttotal: 29.3s\tremaining: 15.9s\n",
            "648:\tlearn: 0.4952299\ttotal: 29.3s\tremaining: 15.8s\n",
            "649:\tlearn: 0.4952191\ttotal: 29.3s\tremaining: 15.8s\n",
            "650:\tlearn: 0.4952108\ttotal: 29.3s\tremaining: 15.7s\n",
            "651:\tlearn: 0.4952065\ttotal: 29.3s\tremaining: 15.7s\n",
            "652:\tlearn: 0.4951862\ttotal: 29.3s\tremaining: 15.6s\n",
            "653:\tlearn: 0.4951718\ttotal: 29.4s\tremaining: 15.5s\n",
            "654:\tlearn: 0.4951643\ttotal: 29.4s\tremaining: 15.5s\n",
            "655:\tlearn: 0.4951540\ttotal: 29.4s\tremaining: 15.4s\n",
            "656:\tlearn: 0.4951455\ttotal: 29.4s\tremaining: 15.3s\n",
            "657:\tlearn: 0.4951349\ttotal: 29.4s\tremaining: 15.3s\n",
            "658:\tlearn: 0.4951196\ttotal: 29.4s\tremaining: 15.2s\n",
            "659:\tlearn: 0.4951082\ttotal: 29.4s\tremaining: 15.2s\n",
            "660:\tlearn: 0.4951002\ttotal: 29.5s\tremaining: 15.1s\n",
            "661:\tlearn: 0.4950873\ttotal: 29.5s\tremaining: 15s\n",
            "662:\tlearn: 0.4950822\ttotal: 29.5s\tremaining: 15s\n",
            "663:\tlearn: 0.4950676\ttotal: 29.5s\tremaining: 14.9s\n",
            "664:\tlearn: 0.4950476\ttotal: 29.5s\tremaining: 14.9s\n",
            "665:\tlearn: 0.4950385\ttotal: 29.5s\tremaining: 14.8s\n",
            "666:\tlearn: 0.4950276\ttotal: 29.5s\tremaining: 14.7s\n",
            "667:\tlearn: 0.4950169\ttotal: 29.5s\tremaining: 14.7s\n",
            "668:\tlearn: 0.4950098\ttotal: 29.6s\tremaining: 14.6s\n",
            "669:\tlearn: 0.4950045\ttotal: 29.6s\tremaining: 14.6s\n",
            "670:\tlearn: 0.4949940\ttotal: 29.6s\tremaining: 14.5s\n",
            "671:\tlearn: 0.4949801\ttotal: 29.6s\tremaining: 14.4s\n",
            "672:\tlearn: 0.4949777\ttotal: 29.6s\tremaining: 14.4s\n",
            "673:\tlearn: 0.4949595\ttotal: 29.6s\tremaining: 14.3s\n",
            "674:\tlearn: 0.4949510\ttotal: 29.6s\tremaining: 14.3s\n",
            "675:\tlearn: 0.4949414\ttotal: 29.6s\tremaining: 14.2s\n",
            "676:\tlearn: 0.4949265\ttotal: 29.6s\tremaining: 14.1s\n",
            "677:\tlearn: 0.4949121\ttotal: 29.7s\tremaining: 14.1s\n",
            "678:\tlearn: 0.4948991\ttotal: 29.7s\tremaining: 14s\n",
            "679:\tlearn: 0.4948896\ttotal: 29.7s\tremaining: 14s\n",
            "680:\tlearn: 0.4948766\ttotal: 29.7s\tremaining: 13.9s\n",
            "681:\tlearn: 0.4948641\ttotal: 29.7s\tremaining: 13.9s\n",
            "682:\tlearn: 0.4948488\ttotal: 29.7s\tremaining: 13.8s\n",
            "683:\tlearn: 0.4948330\ttotal: 29.7s\tremaining: 13.7s\n",
            "684:\tlearn: 0.4948149\ttotal: 29.7s\tremaining: 13.7s\n",
            "685:\tlearn: 0.4948079\ttotal: 29.8s\tremaining: 13.6s\n",
            "686:\tlearn: 0.4947910\ttotal: 29.8s\tremaining: 13.6s\n",
            "687:\tlearn: 0.4947807\ttotal: 29.8s\tremaining: 13.5s\n",
            "688:\tlearn: 0.4947687\ttotal: 29.8s\tremaining: 13.4s\n",
            "689:\tlearn: 0.4947560\ttotal: 29.8s\tremaining: 13.4s\n",
            "690:\tlearn: 0.4947320\ttotal: 29.8s\tremaining: 13.3s\n",
            "691:\tlearn: 0.4947188\ttotal: 29.8s\tremaining: 13.3s\n",
            "692:\tlearn: 0.4947036\ttotal: 29.8s\tremaining: 13.2s\n",
            "693:\tlearn: 0.4946949\ttotal: 29.9s\tremaining: 13.2s\n",
            "694:\tlearn: 0.4946866\ttotal: 29.9s\tremaining: 13.1s\n",
            "695:\tlearn: 0.4946740\ttotal: 29.9s\tremaining: 13.1s\n",
            "696:\tlearn: 0.4946638\ttotal: 29.9s\tremaining: 13s\n",
            "697:\tlearn: 0.4946487\ttotal: 29.9s\tremaining: 12.9s\n",
            "698:\tlearn: 0.4946357\ttotal: 29.9s\tremaining: 12.9s\n",
            "699:\tlearn: 0.4946251\ttotal: 29.9s\tremaining: 12.8s\n",
            "700:\tlearn: 0.4946197\ttotal: 29.9s\tremaining: 12.8s\n",
            "701:\tlearn: 0.4946046\ttotal: 30s\tremaining: 12.7s\n",
            "702:\tlearn: 0.4945940\ttotal: 30s\tremaining: 12.7s\n",
            "703:\tlearn: 0.4945839\ttotal: 30s\tremaining: 12.6s\n",
            "704:\tlearn: 0.4945781\ttotal: 30s\tremaining: 12.6s\n",
            "705:\tlearn: 0.4945697\ttotal: 30s\tremaining: 12.5s\n",
            "706:\tlearn: 0.4945551\ttotal: 30s\tremaining: 12.4s\n",
            "707:\tlearn: 0.4945418\ttotal: 30s\tremaining: 12.4s\n",
            "708:\tlearn: 0.4945301\ttotal: 30s\tremaining: 12.3s\n",
            "709:\tlearn: 0.4945172\ttotal: 30.1s\tremaining: 12.3s\n",
            "710:\tlearn: 0.4944981\ttotal: 30.1s\tremaining: 12.2s\n",
            "711:\tlearn: 0.4944883\ttotal: 30.1s\tremaining: 12.2s\n",
            "712:\tlearn: 0.4944720\ttotal: 30.1s\tremaining: 12.1s\n",
            "713:\tlearn: 0.4944525\ttotal: 30.1s\tremaining: 12.1s\n",
            "714:\tlearn: 0.4944363\ttotal: 30.1s\tremaining: 12s\n",
            "715:\tlearn: 0.4944300\ttotal: 30.1s\tremaining: 12s\n",
            "716:\tlearn: 0.4944142\ttotal: 30.1s\tremaining: 11.9s\n",
            "717:\tlearn: 0.4944006\ttotal: 30.2s\tremaining: 11.8s\n",
            "718:\tlearn: 0.4943857\ttotal: 30.2s\tremaining: 11.8s\n",
            "719:\tlearn: 0.4943747\ttotal: 30.2s\tremaining: 11.7s\n",
            "720:\tlearn: 0.4943593\ttotal: 30.2s\tremaining: 11.7s\n",
            "721:\tlearn: 0.4943414\ttotal: 30.2s\tremaining: 11.6s\n",
            "722:\tlearn: 0.4943300\ttotal: 30.2s\tremaining: 11.6s\n",
            "723:\tlearn: 0.4943175\ttotal: 30.2s\tremaining: 11.5s\n",
            "724:\tlearn: 0.4943054\ttotal: 30.2s\tremaining: 11.5s\n",
            "725:\tlearn: 0.4942972\ttotal: 30.3s\tremaining: 11.4s\n",
            "726:\tlearn: 0.4942757\ttotal: 30.3s\tremaining: 11.4s\n",
            "727:\tlearn: 0.4942654\ttotal: 30.3s\tremaining: 11.3s\n",
            "728:\tlearn: 0.4942533\ttotal: 30.3s\tremaining: 11.3s\n",
            "729:\tlearn: 0.4942305\ttotal: 30.3s\tremaining: 11.2s\n",
            "730:\tlearn: 0.4942214\ttotal: 30.3s\tremaining: 11.2s\n",
            "731:\tlearn: 0.4942134\ttotal: 30.4s\tremaining: 11.1s\n",
            "732:\tlearn: 0.4942024\ttotal: 30.4s\tremaining: 11.1s\n",
            "733:\tlearn: 0.4941952\ttotal: 30.4s\tremaining: 11s\n",
            "734:\tlearn: 0.4941798\ttotal: 30.4s\tremaining: 11s\n",
            "735:\tlearn: 0.4941687\ttotal: 30.4s\tremaining: 10.9s\n",
            "736:\tlearn: 0.4941509\ttotal: 30.4s\tremaining: 10.9s\n",
            "737:\tlearn: 0.4941368\ttotal: 30.4s\tremaining: 10.8s\n",
            "738:\tlearn: 0.4941276\ttotal: 30.4s\tremaining: 10.7s\n",
            "739:\tlearn: 0.4941191\ttotal: 30.4s\tremaining: 10.7s\n",
            "740:\tlearn: 0.4941004\ttotal: 30.5s\tremaining: 10.6s\n",
            "741:\tlearn: 0.4940768\ttotal: 30.5s\tremaining: 10.6s\n",
            "742:\tlearn: 0.4940574\ttotal: 30.5s\tremaining: 10.5s\n",
            "743:\tlearn: 0.4940428\ttotal: 30.5s\tremaining: 10.5s\n",
            "744:\tlearn: 0.4940395\ttotal: 30.5s\tremaining: 10.4s\n",
            "745:\tlearn: 0.4940232\ttotal: 30.5s\tremaining: 10.4s\n",
            "746:\tlearn: 0.4940181\ttotal: 30.5s\tremaining: 10.3s\n",
            "747:\tlearn: 0.4940020\ttotal: 30.6s\tremaining: 10.3s\n",
            "748:\tlearn: 0.4939815\ttotal: 30.6s\tremaining: 10.2s\n",
            "749:\tlearn: 0.4939631\ttotal: 30.6s\tremaining: 10.2s\n",
            "750:\tlearn: 0.4939535\ttotal: 30.6s\tremaining: 10.1s\n",
            "751:\tlearn: 0.4939407\ttotal: 30.6s\tremaining: 10.1s\n",
            "752:\tlearn: 0.4939217\ttotal: 30.6s\tremaining: 10s\n",
            "753:\tlearn: 0.4939077\ttotal: 30.6s\tremaining: 9.99s\n",
            "754:\tlearn: 0.4938920\ttotal: 30.6s\tremaining: 9.94s\n",
            "755:\tlearn: 0.4938764\ttotal: 30.7s\tremaining: 9.89s\n",
            "756:\tlearn: 0.4938637\ttotal: 30.7s\tremaining: 9.85s\n",
            "757:\tlearn: 0.4938498\ttotal: 30.7s\tremaining: 9.8s\n",
            "758:\tlearn: 0.4938349\ttotal: 30.7s\tremaining: 9.75s\n",
            "759:\tlearn: 0.4938238\ttotal: 30.7s\tremaining: 9.7s\n",
            "760:\tlearn: 0.4938077\ttotal: 30.7s\tremaining: 9.65s\n",
            "761:\tlearn: 0.4937957\ttotal: 30.7s\tremaining: 9.6s\n",
            "762:\tlearn: 0.4937832\ttotal: 30.7s\tremaining: 9.55s\n",
            "763:\tlearn: 0.4937739\ttotal: 30.8s\tremaining: 9.5s\n",
            "764:\tlearn: 0.4937652\ttotal: 30.8s\tremaining: 9.45s\n",
            "765:\tlearn: 0.4937492\ttotal: 30.8s\tremaining: 9.4s\n",
            "766:\tlearn: 0.4937356\ttotal: 30.8s\tremaining: 9.36s\n",
            "767:\tlearn: 0.4937192\ttotal: 30.8s\tremaining: 9.31s\n",
            "768:\tlearn: 0.4937106\ttotal: 30.8s\tremaining: 9.26s\n",
            "769:\tlearn: 0.4937011\ttotal: 30.8s\tremaining: 9.21s\n",
            "770:\tlearn: 0.4936851\ttotal: 30.8s\tremaining: 9.16s\n",
            "771:\tlearn: 0.4936736\ttotal: 30.9s\tremaining: 9.11s\n",
            "772:\tlearn: 0.4936605\ttotal: 30.9s\tremaining: 9.06s\n",
            "773:\tlearn: 0.4936515\ttotal: 30.9s\tremaining: 9.02s\n",
            "774:\tlearn: 0.4936365\ttotal: 30.9s\tremaining: 8.97s\n",
            "775:\tlearn: 0.4936233\ttotal: 30.9s\tremaining: 8.92s\n",
            "776:\tlearn: 0.4935999\ttotal: 30.9s\tremaining: 8.88s\n",
            "777:\tlearn: 0.4935792\ttotal: 30.9s\tremaining: 8.83s\n",
            "778:\tlearn: 0.4935623\ttotal: 31s\tremaining: 8.79s\n",
            "779:\tlearn: 0.4935550\ttotal: 31s\tremaining: 8.74s\n",
            "780:\tlearn: 0.4935361\ttotal: 31s\tremaining: 8.7s\n",
            "781:\tlearn: 0.4935163\ttotal: 31s\tremaining: 8.65s\n",
            "782:\tlearn: 0.4935061\ttotal: 31.1s\tremaining: 8.61s\n",
            "783:\tlearn: 0.4934955\ttotal: 31.1s\tremaining: 8.57s\n",
            "784:\tlearn: 0.4934897\ttotal: 31.1s\tremaining: 8.53s\n",
            "785:\tlearn: 0.4934750\ttotal: 31.2s\tremaining: 8.48s\n",
            "786:\tlearn: 0.4934599\ttotal: 31.2s\tremaining: 8.44s\n",
            "787:\tlearn: 0.4934481\ttotal: 31.2s\tremaining: 8.39s\n",
            "788:\tlearn: 0.4934314\ttotal: 31.2s\tremaining: 8.34s\n",
            "789:\tlearn: 0.4934172\ttotal: 31.2s\tremaining: 8.3s\n",
            "790:\tlearn: 0.4933982\ttotal: 31.2s\tremaining: 8.25s\n",
            "791:\tlearn: 0.4933823\ttotal: 31.3s\tremaining: 8.21s\n",
            "792:\tlearn: 0.4933712\ttotal: 31.3s\tremaining: 8.17s\n",
            "793:\tlearn: 0.4933540\ttotal: 31.3s\tremaining: 8.13s\n",
            "794:\tlearn: 0.4933388\ttotal: 31.4s\tremaining: 8.09s\n",
            "795:\tlearn: 0.4933195\ttotal: 31.4s\tremaining: 8.05s\n",
            "796:\tlearn: 0.4933039\ttotal: 31.4s\tremaining: 8.01s\n",
            "797:\tlearn: 0.4932813\ttotal: 31.5s\tremaining: 7.96s\n",
            "798:\tlearn: 0.4932720\ttotal: 31.5s\tremaining: 7.92s\n",
            "799:\tlearn: 0.4932663\ttotal: 31.5s\tremaining: 7.88s\n",
            "800:\tlearn: 0.4932571\ttotal: 31.6s\tremaining: 7.84s\n",
            "801:\tlearn: 0.4932521\ttotal: 31.6s\tremaining: 7.8s\n",
            "802:\tlearn: 0.4932410\ttotal: 31.6s\tremaining: 7.76s\n",
            "803:\tlearn: 0.4932300\ttotal: 31.6s\tremaining: 7.71s\n",
            "804:\tlearn: 0.4932175\ttotal: 31.7s\tremaining: 7.67s\n",
            "805:\tlearn: 0.4931944\ttotal: 31.7s\tremaining: 7.63s\n",
            "806:\tlearn: 0.4931911\ttotal: 31.7s\tremaining: 7.59s\n",
            "807:\tlearn: 0.4931845\ttotal: 31.8s\tremaining: 7.55s\n",
            "808:\tlearn: 0.4931718\ttotal: 31.8s\tremaining: 7.51s\n",
            "809:\tlearn: 0.4931681\ttotal: 31.8s\tremaining: 7.47s\n",
            "810:\tlearn: 0.4931564\ttotal: 31.9s\tremaining: 7.42s\n",
            "811:\tlearn: 0.4931383\ttotal: 31.9s\tremaining: 7.38s\n",
            "812:\tlearn: 0.4931239\ttotal: 31.9s\tremaining: 7.34s\n",
            "813:\tlearn: 0.4931124\ttotal: 32s\tremaining: 7.3s\n",
            "814:\tlearn: 0.4930962\ttotal: 32s\tremaining: 7.26s\n",
            "815:\tlearn: 0.4930861\ttotal: 32s\tremaining: 7.22s\n",
            "816:\tlearn: 0.4930775\ttotal: 32s\tremaining: 7.18s\n",
            "817:\tlearn: 0.4930623\ttotal: 32.1s\tremaining: 7.13s\n",
            "818:\tlearn: 0.4930500\ttotal: 32.1s\tremaining: 7.09s\n",
            "819:\tlearn: 0.4930361\ttotal: 32.1s\tremaining: 7.05s\n",
            "820:\tlearn: 0.4930219\ttotal: 32.2s\tremaining: 7.01s\n",
            "821:\tlearn: 0.4930052\ttotal: 32.2s\tremaining: 6.97s\n",
            "822:\tlearn: 0.4929899\ttotal: 32.2s\tremaining: 6.93s\n",
            "823:\tlearn: 0.4929758\ttotal: 32.3s\tremaining: 6.89s\n",
            "824:\tlearn: 0.4929622\ttotal: 32.3s\tremaining: 6.85s\n",
            "825:\tlearn: 0.4929513\ttotal: 32.3s\tremaining: 6.81s\n",
            "826:\tlearn: 0.4929387\ttotal: 32.4s\tremaining: 6.77s\n",
            "827:\tlearn: 0.4929210\ttotal: 32.4s\tremaining: 6.73s\n",
            "828:\tlearn: 0.4929168\ttotal: 32.4s\tremaining: 6.69s\n",
            "829:\tlearn: 0.4929053\ttotal: 32.5s\tremaining: 6.65s\n",
            "830:\tlearn: 0.4928940\ttotal: 32.5s\tremaining: 6.61s\n",
            "831:\tlearn: 0.4928797\ttotal: 32.5s\tremaining: 6.57s\n",
            "832:\tlearn: 0.4928666\ttotal: 32.6s\tremaining: 6.53s\n",
            "833:\tlearn: 0.4928577\ttotal: 32.6s\tremaining: 6.49s\n",
            "834:\tlearn: 0.4928477\ttotal: 32.6s\tremaining: 6.45s\n",
            "835:\tlearn: 0.4928377\ttotal: 32.7s\tremaining: 6.41s\n",
            "836:\tlearn: 0.4928207\ttotal: 32.7s\tremaining: 6.37s\n",
            "837:\tlearn: 0.4928126\ttotal: 32.7s\tremaining: 6.33s\n",
            "838:\tlearn: 0.4927965\ttotal: 32.8s\tremaining: 6.29s\n",
            "839:\tlearn: 0.4927846\ttotal: 32.8s\tremaining: 6.25s\n",
            "840:\tlearn: 0.4927686\ttotal: 32.8s\tremaining: 6.2s\n",
            "841:\tlearn: 0.4927555\ttotal: 32.9s\tremaining: 6.16s\n",
            "842:\tlearn: 0.4927448\ttotal: 32.9s\tremaining: 6.12s\n",
            "843:\tlearn: 0.4927379\ttotal: 32.9s\tremaining: 6.08s\n",
            "844:\tlearn: 0.4927302\ttotal: 32.9s\tremaining: 6.04s\n",
            "845:\tlearn: 0.4927187\ttotal: 33s\tremaining: 6s\n",
            "846:\tlearn: 0.4927063\ttotal: 33s\tremaining: 5.96s\n",
            "847:\tlearn: 0.4926902\ttotal: 33s\tremaining: 5.92s\n",
            "848:\tlearn: 0.4926749\ttotal: 33.1s\tremaining: 5.88s\n",
            "849:\tlearn: 0.4926592\ttotal: 33.1s\tremaining: 5.84s\n",
            "850:\tlearn: 0.4926447\ttotal: 33.1s\tremaining: 5.8s\n",
            "851:\tlearn: 0.4926221\ttotal: 33.2s\tremaining: 5.76s\n",
            "852:\tlearn: 0.4926126\ttotal: 33.2s\tremaining: 5.72s\n",
            "853:\tlearn: 0.4926049\ttotal: 33.2s\tremaining: 5.68s\n",
            "854:\tlearn: 0.4925900\ttotal: 33.3s\tremaining: 5.64s\n",
            "855:\tlearn: 0.4925735\ttotal: 33.3s\tremaining: 5.6s\n",
            "856:\tlearn: 0.4925584\ttotal: 33.3s\tremaining: 5.56s\n",
            "857:\tlearn: 0.4925418\ttotal: 33.4s\tremaining: 5.52s\n",
            "858:\tlearn: 0.4925329\ttotal: 33.4s\tremaining: 5.48s\n",
            "859:\tlearn: 0.4925180\ttotal: 33.4s\tremaining: 5.44s\n",
            "860:\tlearn: 0.4925084\ttotal: 33.5s\tremaining: 5.4s\n",
            "861:\tlearn: 0.4924983\ttotal: 33.5s\tremaining: 5.36s\n",
            "862:\tlearn: 0.4924886\ttotal: 33.5s\tremaining: 5.32s\n",
            "863:\tlearn: 0.4924740\ttotal: 33.6s\tremaining: 5.28s\n",
            "864:\tlearn: 0.4924618\ttotal: 33.6s\tremaining: 5.24s\n",
            "865:\tlearn: 0.4924485\ttotal: 33.6s\tremaining: 5.2s\n",
            "866:\tlearn: 0.4924318\ttotal: 33.7s\tremaining: 5.16s\n",
            "867:\tlearn: 0.4924234\ttotal: 33.7s\tremaining: 5.12s\n",
            "868:\tlearn: 0.4924118\ttotal: 33.7s\tremaining: 5.08s\n",
            "869:\tlearn: 0.4924024\ttotal: 33.7s\tremaining: 5.04s\n",
            "870:\tlearn: 0.4923827\ttotal: 33.7s\tremaining: 5s\n",
            "871:\tlearn: 0.4923656\ttotal: 33.8s\tremaining: 4.96s\n",
            "872:\tlearn: 0.4923568\ttotal: 33.8s\tremaining: 4.91s\n",
            "873:\tlearn: 0.4923449\ttotal: 33.8s\tremaining: 4.87s\n",
            "874:\tlearn: 0.4923386\ttotal: 33.8s\tremaining: 4.83s\n",
            "875:\tlearn: 0.4923342\ttotal: 33.8s\tremaining: 4.79s\n",
            "876:\tlearn: 0.4923180\ttotal: 33.8s\tremaining: 4.74s\n",
            "877:\tlearn: 0.4923030\ttotal: 33.8s\tremaining: 4.7s\n",
            "878:\tlearn: 0.4922927\ttotal: 33.9s\tremaining: 4.66s\n",
            "879:\tlearn: 0.4922859\ttotal: 33.9s\tremaining: 4.62s\n",
            "880:\tlearn: 0.4922714\ttotal: 33.9s\tremaining: 4.58s\n",
            "881:\tlearn: 0.4922626\ttotal: 33.9s\tremaining: 4.53s\n",
            "882:\tlearn: 0.4922526\ttotal: 33.9s\tremaining: 4.49s\n",
            "883:\tlearn: 0.4922362\ttotal: 33.9s\tremaining: 4.45s\n",
            "884:\tlearn: 0.4922236\ttotal: 33.9s\tremaining: 4.41s\n",
            "885:\tlearn: 0.4922061\ttotal: 33.9s\tremaining: 4.37s\n",
            "886:\tlearn: 0.4921981\ttotal: 34s\tremaining: 4.33s\n",
            "887:\tlearn: 0.4921805\ttotal: 34s\tremaining: 4.28s\n",
            "888:\tlearn: 0.4921661\ttotal: 34s\tremaining: 4.24s\n",
            "889:\tlearn: 0.4921446\ttotal: 34s\tremaining: 4.2s\n",
            "890:\tlearn: 0.4921335\ttotal: 34s\tremaining: 4.16s\n",
            "891:\tlearn: 0.4921273\ttotal: 34s\tremaining: 4.12s\n",
            "892:\tlearn: 0.4921187\ttotal: 34s\tremaining: 4.08s\n",
            "893:\tlearn: 0.4921085\ttotal: 34s\tremaining: 4.04s\n",
            "894:\tlearn: 0.4920901\ttotal: 34s\tremaining: 3.99s\n",
            "895:\tlearn: 0.4920710\ttotal: 34.1s\tremaining: 3.95s\n",
            "896:\tlearn: 0.4920558\ttotal: 34.1s\tremaining: 3.91s\n",
            "897:\tlearn: 0.4920425\ttotal: 34.1s\tremaining: 3.87s\n",
            "898:\tlearn: 0.4920287\ttotal: 34.1s\tremaining: 3.83s\n",
            "899:\tlearn: 0.4920175\ttotal: 34.1s\tremaining: 3.79s\n",
            "900:\tlearn: 0.4920095\ttotal: 34.1s\tremaining: 3.75s\n",
            "901:\tlearn: 0.4919900\ttotal: 34.1s\tremaining: 3.71s\n",
            "902:\tlearn: 0.4919724\ttotal: 34.2s\tremaining: 3.67s\n",
            "903:\tlearn: 0.4919592\ttotal: 34.2s\tremaining: 3.63s\n",
            "904:\tlearn: 0.4919439\ttotal: 34.2s\tremaining: 3.59s\n",
            "905:\tlearn: 0.4919357\ttotal: 34.2s\tremaining: 3.55s\n",
            "906:\tlearn: 0.4919162\ttotal: 34.2s\tremaining: 3.51s\n",
            "907:\tlearn: 0.4919053\ttotal: 34.2s\tremaining: 3.47s\n",
            "908:\tlearn: 0.4918841\ttotal: 34.2s\tremaining: 3.43s\n",
            "909:\tlearn: 0.4918646\ttotal: 34.3s\tremaining: 3.39s\n",
            "910:\tlearn: 0.4918530\ttotal: 34.3s\tremaining: 3.35s\n",
            "911:\tlearn: 0.4918432\ttotal: 34.3s\tremaining: 3.31s\n",
            "912:\tlearn: 0.4918282\ttotal: 34.3s\tremaining: 3.27s\n",
            "913:\tlearn: 0.4918137\ttotal: 34.3s\tremaining: 3.23s\n",
            "914:\tlearn: 0.4918062\ttotal: 34.4s\tremaining: 3.19s\n",
            "915:\tlearn: 0.4917880\ttotal: 34.4s\tremaining: 3.15s\n",
            "916:\tlearn: 0.4917825\ttotal: 34.5s\tremaining: 3.12s\n",
            "917:\tlearn: 0.4917693\ttotal: 34.5s\tremaining: 3.08s\n",
            "918:\tlearn: 0.4917595\ttotal: 34.5s\tremaining: 3.04s\n",
            "919:\tlearn: 0.4917501\ttotal: 34.6s\tremaining: 3s\n",
            "920:\tlearn: 0.4917400\ttotal: 34.6s\tremaining: 2.97s\n",
            "921:\tlearn: 0.4917149\ttotal: 34.6s\tremaining: 2.93s\n",
            "922:\tlearn: 0.4917025\ttotal: 34.7s\tremaining: 2.89s\n",
            "923:\tlearn: 0.4916875\ttotal: 34.7s\tremaining: 2.85s\n",
            "924:\tlearn: 0.4916782\ttotal: 34.7s\tremaining: 2.81s\n",
            "925:\tlearn: 0.4916637\ttotal: 34.8s\tremaining: 2.78s\n",
            "926:\tlearn: 0.4916476\ttotal: 34.8s\tremaining: 2.74s\n",
            "927:\tlearn: 0.4916343\ttotal: 34.8s\tremaining: 2.7s\n",
            "928:\tlearn: 0.4916230\ttotal: 34.9s\tremaining: 2.66s\n",
            "929:\tlearn: 0.4916018\ttotal: 34.9s\tremaining: 2.63s\n",
            "930:\tlearn: 0.4915843\ttotal: 34.9s\tremaining: 2.59s\n",
            "931:\tlearn: 0.4915668\ttotal: 35s\tremaining: 2.55s\n",
            "932:\tlearn: 0.4915517\ttotal: 35s\tremaining: 2.51s\n",
            "933:\tlearn: 0.4915344\ttotal: 35s\tremaining: 2.48s\n",
            "934:\tlearn: 0.4915237\ttotal: 35.1s\tremaining: 2.44s\n",
            "935:\tlearn: 0.4915156\ttotal: 35.1s\tremaining: 2.4s\n",
            "936:\tlearn: 0.4915026\ttotal: 35.1s\tremaining: 2.36s\n",
            "937:\tlearn: 0.4914893\ttotal: 35.2s\tremaining: 2.32s\n",
            "938:\tlearn: 0.4914817\ttotal: 35.2s\tremaining: 2.29s\n",
            "939:\tlearn: 0.4914578\ttotal: 35.2s\tremaining: 2.25s\n",
            "940:\tlearn: 0.4914460\ttotal: 35.3s\tremaining: 2.21s\n",
            "941:\tlearn: 0.4914293\ttotal: 35.3s\tremaining: 2.17s\n",
            "942:\tlearn: 0.4914165\ttotal: 35.3s\tremaining: 2.13s\n",
            "943:\tlearn: 0.4914134\ttotal: 35.4s\tremaining: 2.1s\n",
            "944:\tlearn: 0.4913987\ttotal: 35.4s\tremaining: 2.06s\n",
            "945:\tlearn: 0.4913847\ttotal: 35.4s\tremaining: 2.02s\n",
            "946:\tlearn: 0.4913703\ttotal: 35.5s\tremaining: 1.98s\n",
            "947:\tlearn: 0.4913614\ttotal: 35.5s\tremaining: 1.95s\n",
            "948:\tlearn: 0.4913505\ttotal: 35.5s\tremaining: 1.91s\n",
            "949:\tlearn: 0.4913445\ttotal: 35.6s\tremaining: 1.87s\n",
            "950:\tlearn: 0.4913375\ttotal: 35.6s\tremaining: 1.83s\n",
            "951:\tlearn: 0.4913257\ttotal: 35.6s\tremaining: 1.8s\n",
            "952:\tlearn: 0.4913140\ttotal: 35.7s\tremaining: 1.76s\n",
            "953:\tlearn: 0.4913080\ttotal: 35.7s\tremaining: 1.72s\n",
            "954:\tlearn: 0.4912923\ttotal: 35.7s\tremaining: 1.68s\n",
            "955:\tlearn: 0.4912822\ttotal: 35.7s\tremaining: 1.64s\n",
            "956:\tlearn: 0.4912757\ttotal: 35.7s\tremaining: 1.6s\n",
            "957:\tlearn: 0.4912600\ttotal: 35.8s\tremaining: 1.57s\n",
            "958:\tlearn: 0.4912453\ttotal: 35.8s\tremaining: 1.53s\n",
            "959:\tlearn: 0.4912325\ttotal: 35.8s\tremaining: 1.49s\n",
            "960:\tlearn: 0.4912154\ttotal: 35.9s\tremaining: 1.46s\n",
            "961:\tlearn: 0.4912001\ttotal: 35.9s\tremaining: 1.42s\n",
            "962:\tlearn: 0.4911917\ttotal: 35.9s\tremaining: 1.38s\n",
            "963:\tlearn: 0.4911804\ttotal: 35.9s\tremaining: 1.34s\n",
            "964:\tlearn: 0.4911633\ttotal: 35.9s\tremaining: 1.3s\n",
            "965:\tlearn: 0.4911517\ttotal: 36s\tremaining: 1.27s\n",
            "966:\tlearn: 0.4911355\ttotal: 36s\tremaining: 1.23s\n",
            "967:\tlearn: 0.4911143\ttotal: 36s\tremaining: 1.19s\n",
            "968:\tlearn: 0.4911060\ttotal: 36.1s\tremaining: 1.15s\n",
            "969:\tlearn: 0.4910866\ttotal: 36.1s\tremaining: 1.12s\n",
            "970:\tlearn: 0.4910811\ttotal: 36.1s\tremaining: 1.08s\n",
            "971:\tlearn: 0.4910748\ttotal: 36.2s\tremaining: 1.04s\n",
            "972:\tlearn: 0.4910591\ttotal: 36.2s\tremaining: 1s\n",
            "973:\tlearn: 0.4910387\ttotal: 36.2s\tremaining: 967ms\n",
            "974:\tlearn: 0.4910243\ttotal: 36.3s\tremaining: 930ms\n",
            "975:\tlearn: 0.4910100\ttotal: 36.3s\tremaining: 892ms\n",
            "976:\tlearn: 0.4909956\ttotal: 36.3s\tremaining: 855ms\n",
            "977:\tlearn: 0.4909877\ttotal: 36.4s\tremaining: 818ms\n",
            "978:\tlearn: 0.4909728\ttotal: 36.4s\tremaining: 781ms\n",
            "979:\tlearn: 0.4909621\ttotal: 36.4s\tremaining: 743ms\n",
            "980:\tlearn: 0.4909440\ttotal: 36.4s\tremaining: 706ms\n",
            "981:\tlearn: 0.4909280\ttotal: 36.5s\tremaining: 668ms\n",
            "982:\tlearn: 0.4909119\ttotal: 36.5s\tremaining: 631ms\n",
            "983:\tlearn: 0.4908950\ttotal: 36.5s\tremaining: 594ms\n",
            "984:\tlearn: 0.4908788\ttotal: 36.6s\tremaining: 557ms\n",
            "985:\tlearn: 0.4908647\ttotal: 36.6s\tremaining: 520ms\n",
            "986:\tlearn: 0.4908487\ttotal: 36.6s\tremaining: 483ms\n",
            "987:\tlearn: 0.4908351\ttotal: 36.7s\tremaining: 445ms\n",
            "988:\tlearn: 0.4908174\ttotal: 36.7s\tremaining: 408ms\n",
            "989:\tlearn: 0.4908007\ttotal: 36.7s\tremaining: 371ms\n",
            "990:\tlearn: 0.4907888\ttotal: 36.8s\tremaining: 334ms\n",
            "991:\tlearn: 0.4907819\ttotal: 36.8s\tremaining: 297ms\n",
            "992:\tlearn: 0.4907758\ttotal: 36.8s\tremaining: 260ms\n",
            "993:\tlearn: 0.4907577\ttotal: 36.9s\tremaining: 223ms\n",
            "994:\tlearn: 0.4907471\ttotal: 36.9s\tremaining: 186ms\n",
            "995:\tlearn: 0.4907321\ttotal: 37s\tremaining: 148ms\n",
            "996:\tlearn: 0.4907167\ttotal: 37s\tremaining: 111ms\n",
            "997:\tlearn: 0.4907026\ttotal: 37s\tremaining: 74.2ms\n",
            "998:\tlearn: 0.4906902\ttotal: 37s\tremaining: 37.1ms\n",
            "999:\tlearn: 0.4906777\ttotal: 37.1s\tremaining: 0us\n",
            "Accuracy: 0.80189204229271\n",
            "Precision: 0.7980721700444884\n",
            "Recall: 0.7702767175572519\n",
            "F1-Score: 0.7839281378975479\n"
          ]
        }
      ]
    },
    {
      "cell_type": "code",
      "source": [
        "y_predictions = catboost_model.predict(x_test_np)\n",
        "nv=pd.DataFrame(df_test[\"Id\"])\n",
        "nv[\"df\"]=pd.DataFrame(y_predictions)\n",
        "nv.columns=['Id_pret','decision_finale']\n",
        "nv.to_csv(\"catboost.csv\", index=False)\n"
      ],
      "metadata": {
        "id": "bzzw_gos40gh"
      },
      "execution_count": null,
      "outputs": []
    },
    {
      "cell_type": "markdown",
      "source": [
        "## **Random Forest**"
      ],
      "metadata": {
        "id": "33fH2e8L46FA"
      }
    },
    {
      "cell_type": "code",
      "source": [
        "from sklearn.ensemble import RandomForestClassifier\n",
        "from sklearn.metrics import accuracy_score, precision_score, recall_score, f1_score\n",
        "from sklearn.model_selection import train_test_split\n",
        "\n",
        "Xtrain, Xtest, ytrain, ytest = train_test_split(X_train_scaled, y_train, test_size=0.2, random_state=42)\n",
        "rf_model = RandomForestClassifier(\n",
        "    n_estimators=100,\n",
        "    max_depth=5,\n",
        "    min_samples_split=2,\n",
        "    min_samples_leaf=1,\n",
        "    random_state=42\n",
        ")\n",
        "rf_model.fit(Xtrain, ytrain)\n",
        "y_pred2 = rf_model.predict(Xtest)\n",
        "accuracy = accuracy_score(ytest, y_pred2)\n",
        "precision = precision_score(ytest, y_pred2)\n",
        "recall = recall_score(ytest, y_pred2)\n",
        "f1 = f1_score(ytest, y_pred2)\n",
        "print(\"Accuracy:\", accuracy)\n",
        "print(\"Precision:\", precision)\n",
        "print(\"Recall:\", recall)\n",
        "print(\"F1-Score:\", f1)\n"
      ],
      "metadata": {
        "id": "yn8FztTl4_BI"
      },
      "execution_count": null,
      "outputs": []
    },
    {
      "cell_type": "code",
      "source": [
        "y_predictions = rf_model.predict(x_test_np)\n",
        "nv=pd.DataFrame(df_test[\"Id\"])\n",
        "nv[\"df\"]=pd.DataFrame(y_predictions)\n",
        "nv.columns=['Id_pret','decision_finale']\n",
        "nv.to_csv(\"rf.csv\", index=False)\n"
      ],
      "metadata": {
        "id": "1_O_meGU5E3k"
      },
      "execution_count": null,
      "outputs": []
    }
  ]
}